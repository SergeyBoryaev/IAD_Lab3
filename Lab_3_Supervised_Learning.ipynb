{
 "cells": [
  {
   "cell_type": "markdown",
   "metadata": {
    "id": "oSfjvcpmNCCC"
   },
   "source": [
    "# <center>Майнор \"Интеллектуальный анализ данных\"</center>"
   ]
  },
  {
   "cell_type": "markdown",
   "metadata": {
    "id": "UIv7vFOVNCCD"
   },
   "source": [
    "# <center>Курс \"Введение в анализ данных\"</center>"
   ]
  },
  {
   "cell_type": "markdown",
   "metadata": {
    "id": "hhXt3vzbNCCE"
   },
   "source": [
    "# <center>Лабораторная работа №3. Supervised Learning</center>"
   ]
  },
  {
   "cell_type": "markdown",
   "metadata": {
    "id": "H6p1Ra8XNCCE"
   },
   "source": [
    "## Данные"
   ]
  },
  {
   "cell_type": "markdown",
   "metadata": {
    "id": "OrVNy9bSNCCF"
   },
   "source": [
    "В рамках данной лабораторной работы вам предлагается проанализировать набор данных о студентах двух школ в Португалии.  \n",
    "В файле `students_data.csv` представлена информация о студентах, посещающих два курса - математику (`Math`) и поргутальский язык (`Por`). Некоторые студенты представлены в обоих курсах, некоторые - только в одном. Для каждого студента известны три оценки по курсу: оценка за первое полугодие (`G1`), оценка за второе полугодие (`G2`) и итоговая оценка за год (`G3`)."
   ]
  },
  {
   "cell_type": "code",
   "execution_count": 77,
   "metadata": {
    "id": "KZe7gFZYNCCF"
   },
   "outputs": [],
   "source": [
    "import pandas as pd\n",
    "import matplotlib.pyplot as plt\n",
    "import seaborn as sns\n",
    "import numpy as np"
   ]
  },
  {
   "cell_type": "code",
   "execution_count": 78,
   "metadata": {
    "id": "5ItR62JZ93Rz"
   },
   "outputs": [],
   "source": [
    "def warn(*args, **kwargs):\n",
    "    pass\n",
    "import warnings\n",
    "warnings.warn = warn"
   ]
  },
  {
   "cell_type": "code",
   "execution_count": 79,
   "metadata": {
    "id": "bvIbMs5tNCCG"
   },
   "outputs": [],
   "source": [
    "pd.set_option('display.max_columns', 40)\n",
    "\n",
    "pd.set_option('display.max_colwidth', None)"
   ]
  },
  {
   "cell_type": "code",
   "execution_count": 80,
   "metadata": {
    "colab": {
     "base_uri": "https://localhost:8080/"
    },
    "id": "78cAyYAYNCCG",
    "outputId": "3038b70d-d2b1-4a8e-f80c-c74bf87c687f"
   },
   "outputs": [
    {
     "data": {
      "text/plain": [
       "(1044, 36)"
      ]
     },
     "execution_count": 80,
     "metadata": {},
     "output_type": "execute_result"
    }
   ],
   "source": [
    "data = pd.read_csv(\"students_data.csv\")\n",
    "\n",
    "data.shape"
   ]
  },
  {
   "cell_type": "code",
   "execution_count": 81,
   "metadata": {
    "colab": {
     "base_uri": "https://localhost:8080/",
     "height": 534
    },
    "id": "YK_eZY3XNCCH",
    "outputId": "e51b817b-7c3f-4f26-cfc4-abba1bf7ae5d"
   },
   "outputs": [
    {
     "data": {
      "text/html": [
       "<div>\n",
       "<style scoped>\n",
       "    .dataframe tbody tr th:only-of-type {\n",
       "        vertical-align: middle;\n",
       "    }\n",
       "\n",
       "    .dataframe tbody tr th {\n",
       "        vertical-align: top;\n",
       "    }\n",
       "\n",
       "    .dataframe thead th {\n",
       "        text-align: right;\n",
       "    }\n",
       "</style>\n",
       "<table border=\"1\" class=\"dataframe\">\n",
       "  <thead>\n",
       "    <tr style=\"text-align: right;\">\n",
       "      <th></th>\n",
       "      <th>ID</th>\n",
       "      <th>Subject</th>\n",
       "      <th>school</th>\n",
       "      <th>sex</th>\n",
       "      <th>age</th>\n",
       "      <th>address</th>\n",
       "      <th>famsize</th>\n",
       "      <th>Pstatus</th>\n",
       "      <th>Medu</th>\n",
       "      <th>Fedu</th>\n",
       "      <th>Mjob</th>\n",
       "      <th>Fjob</th>\n",
       "      <th>reason</th>\n",
       "      <th>guardian</th>\n",
       "      <th>traveltime</th>\n",
       "      <th>studytime</th>\n",
       "      <th>failures</th>\n",
       "      <th>schoolsup</th>\n",
       "      <th>famsup</th>\n",
       "      <th>paid</th>\n",
       "      <th>activities</th>\n",
       "      <th>nursery</th>\n",
       "      <th>higher</th>\n",
       "      <th>internet</th>\n",
       "      <th>romantic</th>\n",
       "      <th>famrel</th>\n",
       "      <th>freetime</th>\n",
       "      <th>goout</th>\n",
       "      <th>Dalc</th>\n",
       "      <th>Walc</th>\n",
       "      <th>health</th>\n",
       "      <th>absences</th>\n",
       "      <th>cheating</th>\n",
       "      <th>G1</th>\n",
       "      <th>G2</th>\n",
       "      <th>G3</th>\n",
       "    </tr>\n",
       "  </thead>\n",
       "  <tbody>\n",
       "    <tr>\n",
       "      <th>0</th>\n",
       "      <td>100097</td>\n",
       "      <td>Por</td>\n",
       "      <td>GP</td>\n",
       "      <td>F</td>\n",
       "      <td>16</td>\n",
       "      <td>U</td>\n",
       "      <td>GT3</td>\n",
       "      <td>A</td>\n",
       "      <td>3</td>\n",
       "      <td>4</td>\n",
       "      <td>services</td>\n",
       "      <td>other</td>\n",
       "      <td>course</td>\n",
       "      <td>father</td>\n",
       "      <td>1</td>\n",
       "      <td>1</td>\n",
       "      <td>0</td>\n",
       "      <td>no</td>\n",
       "      <td>no</td>\n",
       "      <td>no</td>\n",
       "      <td>no</td>\n",
       "      <td>yes</td>\n",
       "      <td>yes</td>\n",
       "      <td>yes</td>\n",
       "      <td>no</td>\n",
       "      <td>3.0</td>\n",
       "      <td>2</td>\n",
       "      <td>1</td>\n",
       "      <td>1.0</td>\n",
       "      <td>4.0</td>\n",
       "      <td>5</td>\n",
       "      <td>12</td>\n",
       "      <td>NaN</td>\n",
       "      <td>15</td>\n",
       "      <td>13</td>\n",
       "      <td>14</td>\n",
       "    </tr>\n",
       "    <tr>\n",
       "      <th>1</th>\n",
       "      <td>101021</td>\n",
       "      <td>Por</td>\n",
       "      <td>GP</td>\n",
       "      <td>F</td>\n",
       "      <td>17</td>\n",
       "      <td>U</td>\n",
       "      <td>GT3</td>\n",
       "      <td>T</td>\n",
       "      <td>3</td>\n",
       "      <td>2</td>\n",
       "      <td>other</td>\n",
       "      <td>other</td>\n",
       "      <td>course</td>\n",
       "      <td>mother</td>\n",
       "      <td>1</td>\n",
       "      <td>2</td>\n",
       "      <td>0</td>\n",
       "      <td>no</td>\n",
       "      <td>no</td>\n",
       "      <td>no</td>\n",
       "      <td>yes</td>\n",
       "      <td>no</td>\n",
       "      <td>yes</td>\n",
       "      <td>yes</td>\n",
       "      <td>no</td>\n",
       "      <td>5.0</td>\n",
       "      <td>3</td>\n",
       "      <td>4</td>\n",
       "      <td>1.0</td>\n",
       "      <td>3.0</td>\n",
       "      <td>3</td>\n",
       "      <td>2</td>\n",
       "      <td>NaN</td>\n",
       "      <td>17</td>\n",
       "      <td>18</td>\n",
       "      <td>17</td>\n",
       "    </tr>\n",
       "    <tr>\n",
       "      <th>2</th>\n",
       "      <td>102965</td>\n",
       "      <td>Por</td>\n",
       "      <td>GP</td>\n",
       "      <td>M</td>\n",
       "      <td>16</td>\n",
       "      <td>U</td>\n",
       "      <td>LE3</td>\n",
       "      <td>T</td>\n",
       "      <td>1</td>\n",
       "      <td>2</td>\n",
       "      <td>health</td>\n",
       "      <td>services</td>\n",
       "      <td>course</td>\n",
       "      <td>mother</td>\n",
       "      <td>2</td>\n",
       "      <td>1</td>\n",
       "      <td>2</td>\n",
       "      <td>no</td>\n",
       "      <td>no</td>\n",
       "      <td>no</td>\n",
       "      <td>no</td>\n",
       "      <td>no</td>\n",
       "      <td>yes</td>\n",
       "      <td>yes</td>\n",
       "      <td>no</td>\n",
       "      <td>4.0</td>\n",
       "      <td>4</td>\n",
       "      <td>5</td>\n",
       "      <td>3.0</td>\n",
       "      <td>5.0</td>\n",
       "      <td>5</td>\n",
       "      <td>0</td>\n",
       "      <td>yes</td>\n",
       "      <td>9</td>\n",
       "      <td>8</td>\n",
       "      <td>10</td>\n",
       "    </tr>\n",
       "    <tr>\n",
       "      <th>3</th>\n",
       "      <td>102989</td>\n",
       "      <td>Por</td>\n",
       "      <td>MS</td>\n",
       "      <td>M</td>\n",
       "      <td>17</td>\n",
       "      <td>U</td>\n",
       "      <td>GT3</td>\n",
       "      <td>T</td>\n",
       "      <td>2</td>\n",
       "      <td>3</td>\n",
       "      <td>other</td>\n",
       "      <td>services</td>\n",
       "      <td>home</td>\n",
       "      <td>father</td>\n",
       "      <td>2</td>\n",
       "      <td>2</td>\n",
       "      <td>0</td>\n",
       "      <td>no</td>\n",
       "      <td>no</td>\n",
       "      <td>no</td>\n",
       "      <td>yes</td>\n",
       "      <td>yes</td>\n",
       "      <td>yes</td>\n",
       "      <td>yes</td>\n",
       "      <td>no</td>\n",
       "      <td>4.0</td>\n",
       "      <td>4</td>\n",
       "      <td>3</td>\n",
       "      <td>1.0</td>\n",
       "      <td>1.0</td>\n",
       "      <td>3</td>\n",
       "      <td>4</td>\n",
       "      <td>no</td>\n",
       "      <td>14</td>\n",
       "      <td>15</td>\n",
       "      <td>16</td>\n",
       "    </tr>\n",
       "    <tr>\n",
       "      <th>4</th>\n",
       "      <td>103131</td>\n",
       "      <td>Por</td>\n",
       "      <td>GP</td>\n",
       "      <td>F</td>\n",
       "      <td>16</td>\n",
       "      <td>U</td>\n",
       "      <td>GT3</td>\n",
       "      <td>T</td>\n",
       "      <td>1</td>\n",
       "      <td>1</td>\n",
       "      <td>at_home</td>\n",
       "      <td>other</td>\n",
       "      <td>home</td>\n",
       "      <td>mother</td>\n",
       "      <td>2</td>\n",
       "      <td>1</td>\n",
       "      <td>0</td>\n",
       "      <td>no</td>\n",
       "      <td>yes</td>\n",
       "      <td>no</td>\n",
       "      <td>no</td>\n",
       "      <td>yes</td>\n",
       "      <td>yes</td>\n",
       "      <td>no</td>\n",
       "      <td>NaN</td>\n",
       "      <td>4.0</td>\n",
       "      <td>3</td>\n",
       "      <td>2</td>\n",
       "      <td>1.0</td>\n",
       "      <td>4.0</td>\n",
       "      <td>5</td>\n",
       "      <td>2</td>\n",
       "      <td>yes</td>\n",
       "      <td>12</td>\n",
       "      <td>13</td>\n",
       "      <td>13</td>\n",
       "    </tr>\n",
       "    <tr>\n",
       "      <th>5</th>\n",
       "      <td>103144</td>\n",
       "      <td>Por</td>\n",
       "      <td>GP</td>\n",
       "      <td>M</td>\n",
       "      <td>18</td>\n",
       "      <td>U</td>\n",
       "      <td>LE3</td>\n",
       "      <td>T</td>\n",
       "      <td>3</td>\n",
       "      <td>1</td>\n",
       "      <td>services</td>\n",
       "      <td>services</td>\n",
       "      <td>course</td>\n",
       "      <td>mother</td>\n",
       "      <td>2</td>\n",
       "      <td>1</td>\n",
       "      <td>0</td>\n",
       "      <td>no</td>\n",
       "      <td>no</td>\n",
       "      <td>no</td>\n",
       "      <td>yes</td>\n",
       "      <td>yes</td>\n",
       "      <td>yes</td>\n",
       "      <td>yes</td>\n",
       "      <td>yes</td>\n",
       "      <td>3.0</td>\n",
       "      <td>3</td>\n",
       "      <td>4</td>\n",
       "      <td>4.0</td>\n",
       "      <td>5.0</td>\n",
       "      <td>4</td>\n",
       "      <td>2</td>\n",
       "      <td>NaN</td>\n",
       "      <td>11</td>\n",
       "      <td>11</td>\n",
       "      <td>12</td>\n",
       "    </tr>\n",
       "    <tr>\n",
       "      <th>6</th>\n",
       "      <td>105257</td>\n",
       "      <td>Por</td>\n",
       "      <td>MS</td>\n",
       "      <td>F</td>\n",
       "      <td>18</td>\n",
       "      <td>U</td>\n",
       "      <td>GT3</td>\n",
       "      <td>T</td>\n",
       "      <td>1</td>\n",
       "      <td>1</td>\n",
       "      <td>other</td>\n",
       "      <td>other</td>\n",
       "      <td>course</td>\n",
       "      <td>mother</td>\n",
       "      <td>2</td>\n",
       "      <td>2</td>\n",
       "      <td>0</td>\n",
       "      <td>no</td>\n",
       "      <td>no</td>\n",
       "      <td>no</td>\n",
       "      <td>yes</td>\n",
       "      <td>yes</td>\n",
       "      <td>yes</td>\n",
       "      <td>no</td>\n",
       "      <td>no</td>\n",
       "      <td>1.0</td>\n",
       "      <td>1</td>\n",
       "      <td>1</td>\n",
       "      <td>1.0</td>\n",
       "      <td>1.0</td>\n",
       "      <td>5</td>\n",
       "      <td>6</td>\n",
       "      <td>NaN</td>\n",
       "      <td>11</td>\n",
       "      <td>12</td>\n",
       "      <td>9</td>\n",
       "    </tr>\n",
       "    <tr>\n",
       "      <th>7</th>\n",
       "      <td>107639</td>\n",
       "      <td>Por</td>\n",
       "      <td>MS</td>\n",
       "      <td>F</td>\n",
       "      <td>15</td>\n",
       "      <td>R</td>\n",
       "      <td>GT3</td>\n",
       "      <td>T</td>\n",
       "      <td>4</td>\n",
       "      <td>4</td>\n",
       "      <td>teacher</td>\n",
       "      <td>other</td>\n",
       "      <td>course</td>\n",
       "      <td>mother</td>\n",
       "      <td>2</td>\n",
       "      <td>1</td>\n",
       "      <td>0</td>\n",
       "      <td>no</td>\n",
       "      <td>no</td>\n",
       "      <td>no</td>\n",
       "      <td>no</td>\n",
       "      <td>yes</td>\n",
       "      <td>yes</td>\n",
       "      <td>yes</td>\n",
       "      <td>yes</td>\n",
       "      <td>1.0</td>\n",
       "      <td>5</td>\n",
       "      <td>1</td>\n",
       "      <td>3.0</td>\n",
       "      <td>5.0</td>\n",
       "      <td>5</td>\n",
       "      <td>0</td>\n",
       "      <td>NaN</td>\n",
       "      <td>13</td>\n",
       "      <td>14</td>\n",
       "      <td>14</td>\n",
       "    </tr>\n",
       "    <tr>\n",
       "      <th>8</th>\n",
       "      <td>107914</td>\n",
       "      <td>Math</td>\n",
       "      <td>GP</td>\n",
       "      <td>F</td>\n",
       "      <td>15</td>\n",
       "      <td>U</td>\n",
       "      <td>LE3</td>\n",
       "      <td>T</td>\n",
       "      <td>3</td>\n",
       "      <td>2</td>\n",
       "      <td>services</td>\n",
       "      <td>other</td>\n",
       "      <td>reputation</td>\n",
       "      <td>mother</td>\n",
       "      <td>1</td>\n",
       "      <td>2</td>\n",
       "      <td>0</td>\n",
       "      <td>no</td>\n",
       "      <td>yes</td>\n",
       "      <td>yes</td>\n",
       "      <td>no</td>\n",
       "      <td>yes</td>\n",
       "      <td>yes</td>\n",
       "      <td>yes</td>\n",
       "      <td>no</td>\n",
       "      <td>4.0</td>\n",
       "      <td>4</td>\n",
       "      <td>4</td>\n",
       "      <td>1.0</td>\n",
       "      <td>1.0</td>\n",
       "      <td>5</td>\n",
       "      <td>10</td>\n",
       "      <td>no</td>\n",
       "      <td>7</td>\n",
       "      <td>6</td>\n",
       "      <td>6</td>\n",
       "    </tr>\n",
       "    <tr>\n",
       "      <th>9</th>\n",
       "      <td>108089</td>\n",
       "      <td>Por</td>\n",
       "      <td>MS</td>\n",
       "      <td>M</td>\n",
       "      <td>16</td>\n",
       "      <td>R</td>\n",
       "      <td>GT3</td>\n",
       "      <td>T</td>\n",
       "      <td>3</td>\n",
       "      <td>4</td>\n",
       "      <td>other</td>\n",
       "      <td>health</td>\n",
       "      <td>other</td>\n",
       "      <td>mother</td>\n",
       "      <td>3</td>\n",
       "      <td>2</td>\n",
       "      <td>0</td>\n",
       "      <td>no</td>\n",
       "      <td>no</td>\n",
       "      <td>no</td>\n",
       "      <td>no</td>\n",
       "      <td>no</td>\n",
       "      <td>yes</td>\n",
       "      <td>no</td>\n",
       "      <td>no</td>\n",
       "      <td>3.0</td>\n",
       "      <td>4</td>\n",
       "      <td>5</td>\n",
       "      <td>1.0</td>\n",
       "      <td>2.0</td>\n",
       "      <td>5</td>\n",
       "      <td>4</td>\n",
       "      <td>NaN</td>\n",
       "      <td>9</td>\n",
       "      <td>10</td>\n",
       "      <td>11</td>\n",
       "    </tr>\n",
       "    <tr>\n",
       "      <th>10</th>\n",
       "      <td>108254</td>\n",
       "      <td>Por</td>\n",
       "      <td>GP</td>\n",
       "      <td>M</td>\n",
       "      <td>15</td>\n",
       "      <td>U</td>\n",
       "      <td>LE3</td>\n",
       "      <td>T</td>\n",
       "      <td>4</td>\n",
       "      <td>4</td>\n",
       "      <td>health</td>\n",
       "      <td>services</td>\n",
       "      <td>course</td>\n",
       "      <td>father</td>\n",
       "      <td>1</td>\n",
       "      <td>1</td>\n",
       "      <td>0</td>\n",
       "      <td>no</td>\n",
       "      <td>yes</td>\n",
       "      <td>no</td>\n",
       "      <td>yes</td>\n",
       "      <td>yes</td>\n",
       "      <td>yes</td>\n",
       "      <td>yes</td>\n",
       "      <td>no</td>\n",
       "      <td>4.0</td>\n",
       "      <td>3</td>\n",
       "      <td>3</td>\n",
       "      <td>1.0</td>\n",
       "      <td>3.0</td>\n",
       "      <td>5</td>\n",
       "      <td>0</td>\n",
       "      <td>NaN</td>\n",
       "      <td>12</td>\n",
       "      <td>13</td>\n",
       "      <td>12</td>\n",
       "    </tr>\n",
       "    <tr>\n",
       "      <th>11</th>\n",
       "      <td>108296</td>\n",
       "      <td>Por</td>\n",
       "      <td>GP</td>\n",
       "      <td>M</td>\n",
       "      <td>18</td>\n",
       "      <td>U</td>\n",
       "      <td>LE3</td>\n",
       "      <td>T</td>\n",
       "      <td>3</td>\n",
       "      <td>4</td>\n",
       "      <td>services</td>\n",
       "      <td>other</td>\n",
       "      <td>home</td>\n",
       "      <td>mother</td>\n",
       "      <td>1</td>\n",
       "      <td>2</td>\n",
       "      <td>0</td>\n",
       "      <td>no</td>\n",
       "      <td>no</td>\n",
       "      <td>no</td>\n",
       "      <td>yes</td>\n",
       "      <td>yes</td>\n",
       "      <td>yes</td>\n",
       "      <td>yes</td>\n",
       "      <td>yes</td>\n",
       "      <td>4.0</td>\n",
       "      <td>3</td>\n",
       "      <td>3</td>\n",
       "      <td>1.0</td>\n",
       "      <td>3.0</td>\n",
       "      <td>5</td>\n",
       "      <td>6</td>\n",
       "      <td>no</td>\n",
       "      <td>16</td>\n",
       "      <td>16</td>\n",
       "      <td>17</td>\n",
       "    </tr>\n",
       "    <tr>\n",
       "      <th>12</th>\n",
       "      <td>108753</td>\n",
       "      <td>Math</td>\n",
       "      <td>MS</td>\n",
       "      <td>F</td>\n",
       "      <td>18</td>\n",
       "      <td>R</td>\n",
       "      <td>GT3</td>\n",
       "      <td>T</td>\n",
       "      <td>4</td>\n",
       "      <td>4</td>\n",
       "      <td>teacher</td>\n",
       "      <td>at-home</td>\n",
       "      <td>reputation</td>\n",
       "      <td>mother</td>\n",
       "      <td>3</td>\n",
       "      <td>1</td>\n",
       "      <td>0</td>\n",
       "      <td>no</td>\n",
       "      <td>yes</td>\n",
       "      <td>yes</td>\n",
       "      <td>yes</td>\n",
       "      <td>yes</td>\n",
       "      <td>yes</td>\n",
       "      <td>yes</td>\n",
       "      <td>yes</td>\n",
       "      <td>4.0</td>\n",
       "      <td>4</td>\n",
       "      <td>3</td>\n",
       "      <td>2.0</td>\n",
       "      <td>2.0</td>\n",
       "      <td>5</td>\n",
       "      <td>7</td>\n",
       "      <td>NaN</td>\n",
       "      <td>6</td>\n",
       "      <td>5</td>\n",
       "      <td>6</td>\n",
       "    </tr>\n",
       "    <tr>\n",
       "      <th>13</th>\n",
       "      <td>108825</td>\n",
       "      <td>Por</td>\n",
       "      <td>GP</td>\n",
       "      <td>M</td>\n",
       "      <td>15</td>\n",
       "      <td>U</td>\n",
       "      <td>GT3</td>\n",
       "      <td>T</td>\n",
       "      <td>4</td>\n",
       "      <td>3</td>\n",
       "      <td>teacher</td>\n",
       "      <td>other</td>\n",
       "      <td>home</td>\n",
       "      <td>mother</td>\n",
       "      <td>1</td>\n",
       "      <td>2</td>\n",
       "      <td>0</td>\n",
       "      <td>no</td>\n",
       "      <td>yes</td>\n",
       "      <td>no</td>\n",
       "      <td>yes</td>\n",
       "      <td>yes</td>\n",
       "      <td>yes</td>\n",
       "      <td>yes</td>\n",
       "      <td>no</td>\n",
       "      <td>4.0</td>\n",
       "      <td>3</td>\n",
       "      <td>3</td>\n",
       "      <td>2.0</td>\n",
       "      <td>3.0</td>\n",
       "      <td>5</td>\n",
       "      <td>0</td>\n",
       "      <td>yes</td>\n",
       "      <td>11</td>\n",
       "      <td>11</td>\n",
       "      <td>11</td>\n",
       "    </tr>\n",
       "    <tr>\n",
       "      <th>14</th>\n",
       "      <td>114462</td>\n",
       "      <td>Math</td>\n",
       "      <td>GP</td>\n",
       "      <td>F</td>\n",
       "      <td>16</td>\n",
       "      <td>U</td>\n",
       "      <td>LE3</td>\n",
       "      <td>T</td>\n",
       "      <td>2</td>\n",
       "      <td>2</td>\n",
       "      <td>at_home</td>\n",
       "      <td>other</td>\n",
       "      <td>course</td>\n",
       "      <td>mother</td>\n",
       "      <td>1</td>\n",
       "      <td>2</td>\n",
       "      <td>0</td>\n",
       "      <td>no</td>\n",
       "      <td>yes</td>\n",
       "      <td>no</td>\n",
       "      <td>no</td>\n",
       "      <td>yes</td>\n",
       "      <td>yes</td>\n",
       "      <td>no</td>\n",
       "      <td>no</td>\n",
       "      <td>4.0</td>\n",
       "      <td>3</td>\n",
       "      <td>4</td>\n",
       "      <td>1.0</td>\n",
       "      <td>2.0</td>\n",
       "      <td>2</td>\n",
       "      <td>4</td>\n",
       "      <td>yes</td>\n",
       "      <td>8</td>\n",
       "      <td>7</td>\n",
       "      <td>6</td>\n",
       "    </tr>\n",
       "  </tbody>\n",
       "</table>\n",
       "</div>"
      ],
      "text/plain": [
       "        ID Subject school sex  age address famsize Pstatus Medu Fedu  \\\n",
       "0   100097     Por     GP   F   16       U     GT3       A    3    4   \n",
       "1   101021     Por     GP   F   17       U     GT3       T    3    2   \n",
       "2   102965     Por     GP   M   16       U     LE3       T    1    2   \n",
       "3   102989     Por     MS   M   17       U     GT3       T    2    3   \n",
       "4   103131     Por     GP   F   16       U     GT3       T    1    1   \n",
       "5   103144     Por     GP   M   18       U     LE3       T    3    1   \n",
       "6   105257     Por     MS   F   18       U     GT3       T    1    1   \n",
       "7   107639     Por     MS   F   15       R     GT3       T    4    4   \n",
       "8   107914    Math     GP   F   15       U     LE3       T    3    2   \n",
       "9   108089     Por     MS   M   16       R     GT3       T    3    4   \n",
       "10  108254     Por     GP   M   15       U     LE3       T    4    4   \n",
       "11  108296     Por     GP   M   18       U     LE3       T    3    4   \n",
       "12  108753    Math     MS   F   18       R     GT3       T    4    4   \n",
       "13  108825     Por     GP   M   15       U     GT3       T    4    3   \n",
       "14  114462    Math     GP   F   16       U     LE3       T    2    2   \n",
       "\n",
       "        Mjob      Fjob      reason guardian  traveltime  studytime  failures  \\\n",
       "0   services     other      course   father           1          1         0   \n",
       "1      other     other      course   mother           1          2         0   \n",
       "2     health  services      course   mother           2          1         2   \n",
       "3      other  services        home   father           2          2         0   \n",
       "4    at_home     other        home   mother           2          1         0   \n",
       "5   services  services      course   mother           2          1         0   \n",
       "6      other     other      course   mother           2          2         0   \n",
       "7    teacher     other      course   mother           2          1         0   \n",
       "8   services     other  reputation   mother           1          2         0   \n",
       "9      other    health       other   mother           3          2         0   \n",
       "10    health  services      course   father           1          1         0   \n",
       "11  services     other        home   mother           1          2         0   \n",
       "12   teacher   at-home  reputation   mother           3          1         0   \n",
       "13   teacher     other        home   mother           1          2         0   \n",
       "14   at_home     other      course   mother           1          2         0   \n",
       "\n",
       "   schoolsup famsup paid activities nursery higher internet romantic  famrel  \\\n",
       "0         no     no   no         no     yes    yes      yes       no     3.0   \n",
       "1         no     no   no        yes      no    yes      yes       no     5.0   \n",
       "2         no     no   no         no      no    yes      yes       no     4.0   \n",
       "3         no     no   no        yes     yes    yes      yes       no     4.0   \n",
       "4         no    yes   no         no     yes    yes       no      NaN     4.0   \n",
       "5         no     no   no        yes     yes    yes      yes      yes     3.0   \n",
       "6         no     no   no        yes     yes    yes       no       no     1.0   \n",
       "7         no     no   no         no     yes    yes      yes      yes     1.0   \n",
       "8         no    yes  yes         no     yes    yes      yes       no     4.0   \n",
       "9         no     no   no         no      no    yes       no       no     3.0   \n",
       "10        no    yes   no        yes     yes    yes      yes       no     4.0   \n",
       "11        no     no   no        yes     yes    yes      yes      yes     4.0   \n",
       "12        no    yes  yes        yes     yes    yes      yes      yes     4.0   \n",
       "13        no    yes   no        yes     yes    yes      yes       no     4.0   \n",
       "14        no    yes   no         no     yes    yes       no       no     4.0   \n",
       "\n",
       "    freetime  goout  Dalc  Walc  health  absences cheating  G1  G2  G3  \n",
       "0          2      1   1.0   4.0       5        12      NaN  15  13  14  \n",
       "1          3      4   1.0   3.0       3         2      NaN  17  18  17  \n",
       "2          4      5   3.0   5.0       5         0      yes   9   8  10  \n",
       "3          4      3   1.0   1.0       3         4       no  14  15  16  \n",
       "4          3      2   1.0   4.0       5         2      yes  12  13  13  \n",
       "5          3      4   4.0   5.0       4         2      NaN  11  11  12  \n",
       "6          1      1   1.0   1.0       5         6      NaN  11  12   9  \n",
       "7          5      1   3.0   5.0       5         0      NaN  13  14  14  \n",
       "8          4      4   1.0   1.0       5        10       no   7   6   6  \n",
       "9          4      5   1.0   2.0       5         4      NaN   9  10  11  \n",
       "10         3      3   1.0   3.0       5         0      NaN  12  13  12  \n",
       "11         3      3   1.0   3.0       5         6       no  16  16  17  \n",
       "12         4      3   2.0   2.0       5         7      NaN   6   5   6  \n",
       "13         3      3   2.0   3.0       5         0      yes  11  11  11  \n",
       "14         3      4   1.0   2.0       2         4      yes   8   7   6  "
      ]
     },
     "execution_count": 81,
     "metadata": {},
     "output_type": "execute_result"
    }
   ],
   "source": [
    "data.head(15)"
   ]
  },
  {
   "cell_type": "markdown",
   "metadata": {
    "id": "vJITotFQNCCH"
   },
   "source": [
    "### Признаки"
   ]
  },
  {
   "cell_type": "markdown",
   "metadata": {
    "id": "Q6lEnLBoNCCH"
   },
   "source": [
    "Данные представлены признаками различных типов: числовыми, категориальными, упорядоченными категориальными."
   ]
  },
  {
   "cell_type": "markdown",
   "metadata": {
    "id": "w1ztgQIzNCCI"
   },
   "source": [
    "**Описание признаков:**"
   ]
  },
  {
   "cell_type": "code",
   "execution_count": 82,
   "metadata": {
    "colab": {
     "base_uri": "https://localhost:8080/",
     "height": 0
    },
    "id": "d_lRAC6RNCCI",
    "outputId": "b91a1076-c6cf-4da1-82bc-ea46a0ead274"
   },
   "outputs": [
    {
     "data": {
      "text/html": [
       "<div>\n",
       "<style scoped>\n",
       "    .dataframe tbody tr th:only-of-type {\n",
       "        vertical-align: middle;\n",
       "    }\n",
       "\n",
       "    .dataframe tbody tr th {\n",
       "        vertical-align: top;\n",
       "    }\n",
       "\n",
       "    .dataframe thead th {\n",
       "        text-align: right;\n",
       "    }\n",
       "</style>\n",
       "<table border=\"1\" class=\"dataframe\">\n",
       "  <thead>\n",
       "    <tr style=\"text-align: right;\">\n",
       "      <th></th>\n",
       "      <th>Признак</th>\n",
       "      <th>Описание</th>\n",
       "    </tr>\n",
       "  </thead>\n",
       "  <tbody>\n",
       "    <tr>\n",
       "      <th>0</th>\n",
       "      <td>ID</td>\n",
       "      <td>Уникальный номер наблюдения</td>\n",
       "    </tr>\n",
       "    <tr>\n",
       "      <th>1</th>\n",
       "      <td>Subject</td>\n",
       "      <td>Предмет: 'Math' - математика, 'Por' - португальский язык</td>\n",
       "    </tr>\n",
       "    <tr>\n",
       "      <th>2</th>\n",
       "      <td>school</td>\n",
       "      <td>Школа: 'GP' - Gabriel Pereira, 'MS' - Mousinho da Silveira</td>\n",
       "    </tr>\n",
       "    <tr>\n",
       "      <th>3</th>\n",
       "      <td>sex</td>\n",
       "      <td>Пол студента: 'F' - женский, 'M' - мужской</td>\n",
       "    </tr>\n",
       "    <tr>\n",
       "      <th>4</th>\n",
       "      <td>age</td>\n",
       "      <td>Возраст студента</td>\n",
       "    </tr>\n",
       "    <tr>\n",
       "      <th>5</th>\n",
       "      <td>address</td>\n",
       "      <td>Место проживания студента: 'U' - в городе, 'R' - за городом</td>\n",
       "    </tr>\n",
       "    <tr>\n",
       "      <th>6</th>\n",
       "      <td>famsize</td>\n",
       "      <td>Число членов семьи: 'LE3' - если &lt;= 3, 'GT3' - если &gt; 3</td>\n",
       "    </tr>\n",
       "    <tr>\n",
       "      <th>7</th>\n",
       "      <td>Pstatus</td>\n",
       "      <td>Отношения родителей: 'T' - живут вместе, 'A' - живут раздельно</td>\n",
       "    </tr>\n",
       "    <tr>\n",
       "      <th>8</th>\n",
       "      <td>Medu</td>\n",
       "      <td>Образование матери: 0 - без образования, 1 - начальная школа, 2 – от 5 до 9 классов, 3 – среднее образование, 4 – высшее образование</td>\n",
       "    </tr>\n",
       "    <tr>\n",
       "      <th>9</th>\n",
       "      <td>Fedu</td>\n",
       "      <td>Образование отца: 0 - без образования, 1 - начальная школа, 2 – от 5 до 9 классов, 3 – среднее образование, 4 – высшее образование</td>\n",
       "    </tr>\n",
       "    <tr>\n",
       "      <th>10</th>\n",
       "      <td>Mjob</td>\n",
       "      <td>Работа матери: 'teacher' - связана с преподаванием, 'health'  - связана с здравоохранением, 'services' - администрация и полиция, 'at_home' - домашняя занятость, 'other' - другое</td>\n",
       "    </tr>\n",
       "    <tr>\n",
       "      <th>11</th>\n",
       "      <td>Fjob</td>\n",
       "      <td>Работа отца: 'teacher' - связана с преподаванием, 'health'  - связана с здравоохранением, 'services' - администрация и полиция, 'at_home' - домашняя занятость, 'other' - другое</td>\n",
       "    </tr>\n",
       "    <tr>\n",
       "      <th>12</th>\n",
       "      <td>reason</td>\n",
       "      <td>Причина, по которой студент выбрал данную школу: 'home' - рядом с домом, 'reputation' - репутация школы, 'course' - читаемые курсы, 'other' - другое</td>\n",
       "    </tr>\n",
       "    <tr>\n",
       "      <th>13</th>\n",
       "      <td>guardian</td>\n",
       "      <td>Опекун студента (student's guardian): 'mother', 'father' или 'other'</td>\n",
       "    </tr>\n",
       "    <tr>\n",
       "      <th>14</th>\n",
       "      <td>traveltime</td>\n",
       "      <td>Время в пути от дома до школы: 1 - &lt; 15 мин, 2 - от 15 до 30 мин, 3 - от 30 мин до 1 часа, 4 - &gt; 1 часа</td>\n",
       "    </tr>\n",
       "    <tr>\n",
       "      <th>15</th>\n",
       "      <td>studytime</td>\n",
       "      <td>Количество часов на учебу в неделю: 1 - &lt; 2 часов, 2 - от 2 до 5 часов, 3 - от 5 до 10 часов, 4 - &gt; 10 часов</td>\n",
       "    </tr>\n",
       "    <tr>\n",
       "      <th>16</th>\n",
       "      <td>failures</td>\n",
       "      <td>Число завалов студента по предыдущим курсам:  n если 0&lt;=n&lt;3, иначе 3</td>\n",
       "    </tr>\n",
       "    <tr>\n",
       "      <th>17</th>\n",
       "      <td>schoolsup</td>\n",
       "      <td>Дополнительная помощь в учебе: yes или no</td>\n",
       "    </tr>\n",
       "    <tr>\n",
       "      <th>18</th>\n",
       "      <td>famsup</td>\n",
       "      <td>Дополнительная помощь в учебе от членов семьи: yes или no</td>\n",
       "    </tr>\n",
       "    <tr>\n",
       "      <th>19</th>\n",
       "      <td>paid</td>\n",
       "      <td>Платные дополнительные занятия по соответствущему курсу ('Math' или 'Por'): yes или no</td>\n",
       "    </tr>\n",
       "    <tr>\n",
       "      <th>20</th>\n",
       "      <td>activities</td>\n",
       "      <td>Внеучебные активности: yes или no</td>\n",
       "    </tr>\n",
       "    <tr>\n",
       "      <th>21</th>\n",
       "      <td>nursery</td>\n",
       "      <td>Ходил в детстве в детский сад: yes или no</td>\n",
       "    </tr>\n",
       "    <tr>\n",
       "      <th>22</th>\n",
       "      <td>higher</td>\n",
       "      <td>Собирается получать высшее образование: yes или no</td>\n",
       "    </tr>\n",
       "    <tr>\n",
       "      <th>23</th>\n",
       "      <td>internet</td>\n",
       "      <td>Есть доступ к всемирной сети из дома: yes или no</td>\n",
       "    </tr>\n",
       "    <tr>\n",
       "      <th>24</th>\n",
       "      <td>romantic</td>\n",
       "      <td>Состоит в романтических отношениях: yes или no</td>\n",
       "    </tr>\n",
       "    <tr>\n",
       "      <th>25</th>\n",
       "      <td>famrel</td>\n",
       "      <td>Отношения в семье: от 1 - очень плохие, до 5 - прекрасные</td>\n",
       "    </tr>\n",
       "    <tr>\n",
       "      <th>26</th>\n",
       "      <td>freetime</td>\n",
       "      <td>Свободное время после занятий: от 1 - очень мало, до 5 - очень много</td>\n",
       "    </tr>\n",
       "    <tr>\n",
       "      <th>27</th>\n",
       "      <td>goout</td>\n",
       "      <td>Проводит время с друзьями: от 1 - очень редко/мало, до 5 - очень часто/много</td>\n",
       "    </tr>\n",
       "    <tr>\n",
       "      <th>28</th>\n",
       "      <td>Dalc</td>\n",
       "      <td>Потребление алкоголя в будни: от 1 - очень мало, до 5 - очень много</td>\n",
       "    </tr>\n",
       "    <tr>\n",
       "      <th>29</th>\n",
       "      <td>Walc</td>\n",
       "      <td>Потребление алкоголя в выходные: от 1 - очень мало, до 5 - очень много</td>\n",
       "    </tr>\n",
       "    <tr>\n",
       "      <th>30</th>\n",
       "      <td>health</td>\n",
       "      <td>Состояние здоровья: от 1 - очень плохое, до 5  - очень хорошее</td>\n",
       "    </tr>\n",
       "    <tr>\n",
       "      <th>31</th>\n",
       "      <td>absences</td>\n",
       "      <td>Число пропусков: сколько раз пропустил занятия в школе</td>\n",
       "    </tr>\n",
       "    <tr>\n",
       "      <th>32</th>\n",
       "      <td>cheating</td>\n",
       "      <td>Списывает ли на тестах: yes или no</td>\n",
       "    </tr>\n",
       "    <tr>\n",
       "      <th>33</th>\n",
       "      <td>G1</td>\n",
       "      <td>Оценка за первое полугодние: от 0 до 20</td>\n",
       "    </tr>\n",
       "    <tr>\n",
       "      <th>34</th>\n",
       "      <td>G2</td>\n",
       "      <td>Оценка за второе полугодие: от 0 до 20</td>\n",
       "    </tr>\n",
       "    <tr>\n",
       "      <th>35</th>\n",
       "      <td>G3</td>\n",
       "      <td>Итоговая оценка: от 0 до 20</td>\n",
       "    </tr>\n",
       "  </tbody>\n",
       "</table>\n",
       "</div>"
      ],
      "text/plain": [
       "       Признак  \\\n",
       "0           ID   \n",
       "1      Subject   \n",
       "2       school   \n",
       "3          sex   \n",
       "4          age   \n",
       "5      address   \n",
       "6      famsize   \n",
       "7      Pstatus   \n",
       "8         Medu   \n",
       "9         Fedu   \n",
       "10        Mjob   \n",
       "11        Fjob   \n",
       "12      reason   \n",
       "13    guardian   \n",
       "14  traveltime   \n",
       "15   studytime   \n",
       "16    failures   \n",
       "17   schoolsup   \n",
       "18      famsup   \n",
       "19        paid   \n",
       "20  activities   \n",
       "21     nursery   \n",
       "22      higher   \n",
       "23    internet   \n",
       "24    romantic   \n",
       "25      famrel   \n",
       "26    freetime   \n",
       "27       goout   \n",
       "28        Dalc   \n",
       "29        Walc   \n",
       "30      health   \n",
       "31    absences   \n",
       "32    cheating   \n",
       "33          G1   \n",
       "34          G2   \n",
       "35          G3   \n",
       "\n",
       "                                                                                                                                                                              Описание  \n",
       "0                                                                                                                                                          Уникальный номер наблюдения  \n",
       "1                                                                                                                             Предмет: 'Math' - математика, 'Por' - португальский язык  \n",
       "2                                                                                                                           Школа: 'GP' - Gabriel Pereira, 'MS' - Mousinho da Silveira  \n",
       "3                                                                                                                                           Пол студента: 'F' - женский, 'M' - мужской  \n",
       "4                                                                                                                                                                     Возраст студента  \n",
       "5                                                                                                                          Место проживания студента: 'U' - в городе, 'R' - за городом  \n",
       "6                                                                                                                              Число членов семьи: 'LE3' - если <= 3, 'GT3' - если > 3  \n",
       "7                                                                                                                       Отношения родителей: 'T' - живут вместе, 'A' - живут раздельно  \n",
       "8                                                 Образование матери: 0 - без образования, 1 - начальная школа, 2 – от 5 до 9 классов, 3 – среднее образование, 4 – высшее образование  \n",
       "9                                                   Образование отца: 0 - без образования, 1 - начальная школа, 2 – от 5 до 9 классов, 3 – среднее образование, 4 – высшее образование  \n",
       "10  Работа матери: 'teacher' - связана с преподаванием, 'health'  - связана с здравоохранением, 'services' - администрация и полиция, 'at_home' - домашняя занятость, 'other' - другое  \n",
       "11    Работа отца: 'teacher' - связана с преподаванием, 'health'  - связана с здравоохранением, 'services' - администрация и полиция, 'at_home' - домашняя занятость, 'other' - другое  \n",
       "12                                Причина, по которой студент выбрал данную школу: 'home' - рядом с домом, 'reputation' - репутация школы, 'course' - читаемые курсы, 'other' - другое  \n",
       "13                                                                                                                Опекун студента (student's guardian): 'mother', 'father' или 'other'  \n",
       "14                                                                             Время в пути от дома до школы: 1 - < 15 мин, 2 - от 15 до 30 мин, 3 - от 30 мин до 1 часа, 4 - > 1 часа  \n",
       "15                                                                        Количество часов на учебу в неделю: 1 - < 2 часов, 2 - от 2 до 5 часов, 3 - от 5 до 10 часов, 4 - > 10 часов  \n",
       "16                                                                                                                Число завалов студента по предыдущим курсам:  n если 0<=n<3, иначе 3  \n",
       "17                                                                                                                                           Дополнительная помощь в учебе: yes или no  \n",
       "18                                                                                                                           Дополнительная помощь в учебе от членов семьи: yes или no  \n",
       "19                                                                                              Платные дополнительные занятия по соответствущему курсу ('Math' или 'Por'): yes или no  \n",
       "20                                                                                                                                                   Внеучебные активности: yes или no  \n",
       "21                                                                                                                                           Ходил в детстве в детский сад: yes или no  \n",
       "22                                                                                                                                  Собирается получать высшее образование: yes или no  \n",
       "23                                                                                                                                    Есть доступ к всемирной сети из дома: yes или no  \n",
       "24                                                                                                                                      Состоит в романтических отношениях: yes или no  \n",
       "25                                                                                                                           Отношения в семье: от 1 - очень плохие, до 5 - прекрасные  \n",
       "26                                                                                                                Свободное время после занятий: от 1 - очень мало, до 5 - очень много  \n",
       "27                                                                                                        Проводит время с друзьями: от 1 - очень редко/мало, до 5 - очень часто/много  \n",
       "28                                                                                                                 Потребление алкоголя в будни: от 1 - очень мало, до 5 - очень много  \n",
       "29                                                                                                              Потребление алкоголя в выходные: от 1 - очень мало, до 5 - очень много  \n",
       "30                                                                                                                      Состояние здоровья: от 1 - очень плохое, до 5  - очень хорошее  \n",
       "31                                                                                                                              Число пропусков: сколько раз пропустил занятия в школе  \n",
       "32                                                                                                                                                  Списывает ли на тестах: yes или no  \n",
       "33                                                                                                                                             Оценка за первое полугодние: от 0 до 20  \n",
       "34                                                                                                                                              Оценка за второе полугодие: от 0 до 20  \n",
       "35                                                                                                                                                         Итоговая оценка: от 0 до 20  "
      ]
     },
     "execution_count": 82,
     "metadata": {},
     "output_type": "execute_result"
    }
   ],
   "source": [
    "pd.read_csv('students_data_features.csv',\n",
    "            delimiter=';',\n",
    "            encoding='windows-1251')"
   ]
  },
  {
   "cell_type": "markdown",
   "metadata": {
    "id": "aNvSSFfMNCCI"
   },
   "source": [
    "## Часть 1. Предобработка данных"
   ]
  },
  {
   "cell_type": "markdown",
   "metadata": {
    "id": "aGLUhw-NNCCJ"
   },
   "source": [
    "* Разделите данные на две части - данные для моделирования (80%) и отложенную выборку (20%). Убедитесь, что распределение целевой переменной (`G3`) одинаково в обоих частях.  \n",
    "  __NB__: Отложенную выборку нужно использовать только для финальной оценки качества модели. Обучение и кросс-валидацию следует проводить на данных для моделирования.  \n",
    "* Выполните необходимые преобразования данных: исправление ошибок, удаление выбросов и пропусков, приведение признаков к числовому виду.  \n",
    "* Оцените значимость признаков для определения итоговой оценки за курс. Исключите из выборки незначимые на ваш взгляд признаки, обоснуйте свое решение. \n",
    "* (Опционально) Feature engineering: создайте новые признаки (значимые) на основе уже имеющихся.\n",
    "  \n",
    "**Tip:** Используйте свои наработки из Лабораторной работы №1."
   ]
  },
  {
   "cell_type": "markdown",
   "metadata": {
    "id": "eEtcwbFtOZvW"
   },
   "source": [
    "Предобработка данных:\n"
   ]
  },
  {
   "cell_type": "code",
   "execution_count": 83,
   "metadata": {
    "colab": {
     "base_uri": "https://localhost:8080/"
    },
    "id": "1vcZHGQHNCCJ",
    "outputId": "858ca8f0-4934-4ec0-ac56-3a057a9c82e3"
   },
   "outputs": [
    {
     "name": "stdout",
     "output_type": "stream",
     "text": [
      "Data types for each columns:\n",
      "ID             Int64\n",
      "Subject       string\n",
      "school        string\n",
      "sex           string\n",
      "age            Int64\n",
      "address       string\n",
      "famsize       string\n",
      "Pstatus       string\n",
      "Medu          string\n",
      "Fedu          string\n",
      "Mjob          string\n",
      "Fjob          string\n",
      "reason        string\n",
      "guardian      string\n",
      "traveltime     Int64\n",
      "studytime      Int64\n",
      "failures       Int64\n",
      "schoolsup     string\n",
      "famsup        string\n",
      "paid          string\n",
      "activities    string\n",
      "nursery       string\n",
      "higher        string\n",
      "internet      string\n",
      "romantic      string\n",
      "famrel         Int64\n",
      "freetime       Int64\n",
      "goout          Int64\n",
      "Dalc           Int64\n",
      "Walc           Int64\n",
      "health         Int64\n",
      "absences       Int64\n",
      "cheating      string\n",
      "G1             Int64\n",
      "G2             Int64\n",
      "G3             Int64\n",
      "dtype: object\n",
      "Data before replacing: \n",
      "ID <IntegerArray>\n",
      "[100097, 101021, 102965, 102989, 103131, 103144, 105257, 107639, 107914,\n",
      " 108089,\n",
      " ...\n",
      " 990885, 990942, 993398, 995838, 996164, 997832, 997897, 998425, 999143,\n",
      " 999194]\n",
      "Length: 1043, dtype: Int64\n",
      "Subject <StringArray>\n",
      "['Por', 'Math']\n",
      "Length: 2, dtype: string\n",
      "school <StringArray>\n",
      "['GP', 'MS']\n",
      "Length: 2, dtype: string\n",
      "sex <StringArray>\n",
      "['F', 'M', 'm']\n",
      "Length: 3, dtype: string\n",
      "age <IntegerArray>\n",
      "[16, 17, 18, 15, 19, 21, 20, 22]\n",
      "Length: 8, dtype: Int64\n",
      "address <StringArray>\n",
      "['U', 'R']\n",
      "Length: 2, dtype: string\n",
      "famsize <StringArray>\n",
      "['GT3', 'LE3']\n",
      "Length: 2, dtype: string\n",
      "Pstatus <StringArray>\n",
      "['A', 'T', 't']\n",
      "Length: 3, dtype: string\n",
      "Medu <StringArray>\n",
      "['3', '1', '2', '4', '0', 'o']\n",
      "Length: 6, dtype: string\n",
      "Fedu <StringArray>\n",
      "['4', '2', '3', '1', 'o', '0']\n",
      "Length: 6, dtype: string\n",
      "Mjob <StringArray>\n",
      "['services', 'other', 'health', 'at_home', 'teacher', 'at-home']\n",
      "Length: 6, dtype: string\n",
      "Fjob <StringArray>\n",
      "['other', 'services', 'health', 'at-home', 'teacher', 'at_home']\n",
      "Length: 6, dtype: string\n",
      "reason <StringArray>\n",
      "['course', 'home', 'reputation', 'other']\n",
      "Length: 4, dtype: string\n",
      "guardian <StringArray>\n",
      "['father', 'mother', 'other', 'futher']\n",
      "Length: 4, dtype: string\n",
      "traveltime <IntegerArray>\n",
      "[1, 2, 3, 4]\n",
      "Length: 4, dtype: Int64\n",
      "studytime <IntegerArray>\n",
      "[1, 2, 4, 3]\n",
      "Length: 4, dtype: Int64\n",
      "failures <IntegerArray>\n",
      "[0, 2, 1, 3]\n",
      "Length: 4, dtype: Int64\n",
      "schoolsup <StringArray>\n",
      "['no', 'yes']\n",
      "Length: 2, dtype: string\n",
      "famsup <StringArray>\n",
      "['no', 'yes']\n",
      "Length: 2, dtype: string\n",
      "paid <StringArray>\n",
      "['no', 'yes']\n",
      "Length: 2, dtype: string\n",
      "activities <StringArray>\n",
      "['no', 'yes']\n",
      "Length: 2, dtype: string\n",
      "nursery <StringArray>\n",
      "['yes', 'no']\n",
      "Length: 2, dtype: string\n",
      "higher <StringArray>\n",
      "['yes', 'no']\n",
      "Length: 2, dtype: string\n",
      "internet <StringArray>\n",
      "['yes', 'no']\n",
      "Length: 2, dtype: string\n",
      "romantic <StringArray>\n",
      "['no', <NA>, 'yes']\n",
      "Length: 3, dtype: string\n",
      "famrel <IntegerArray>\n",
      "[3, 5, 4, 1, 2, <NA>]\n",
      "Length: 6, dtype: Int64\n",
      "freetime <IntegerArray>\n",
      "[2, 3, 4, 1, 5]\n",
      "Length: 5, dtype: Int64\n",
      "goout <IntegerArray>\n",
      "[1, 4, 5, 3, 2]\n",
      "Length: 5, dtype: Int64\n",
      "Dalc <IntegerArray>\n",
      "[1, 3, 4, 2, 5, <NA>]\n",
      "Length: 6, dtype: Int64\n",
      "Walc <IntegerArray>\n",
      "[4, 3, 5, 1, 2, <NA>]\n",
      "Length: 6, dtype: Int64\n",
      "health <IntegerArray>\n",
      "[5, 3, 4, 2, 1]\n",
      "Length: 5, dtype: Int64\n",
      "absences <IntegerArray>\n",
      "[12,  2,  0,  4,  6, 10,  7, 20, 14, 11, 24,  8, 16, 21,  1, 18,  5, 22,  9,\n",
      "  3, 15, 26, 25, 54, 56, 40, 19, 13, 38, 30, 17, 28, 32, 23, 75]\n",
      "Length: 35, dtype: Int64\n",
      "cheating <StringArray>\n",
      "[<NA>, 'yes', 'no']\n",
      "Length: 3, dtype: string\n",
      "G1 <IntegerArray>\n",
      "[15, 17, 9, 14, 12, 11, 13, 7, 16, 6, 8, 10, 18, 0, 5, 3, 4, 19]\n",
      "Length: 18, dtype: Int64\n",
      "G2 <IntegerArray>\n",
      "[13, 18, 8, 15, 11, 12, 14, 6, 10, 16, 5, 7, 9, 17, 0, 4, 19]\n",
      "Length: 17, dtype: Int64\n",
      "G3 <IntegerArray>\n",
      "[14, 17, 10, 16, 13, 12, 9, 6, 11, 8, 18, 15, 0, 5, 7, 19, 4, 1, 20]\n",
      "Length: 19, dtype: Int64\n",
      "Data after replacing: \n",
      "ID <IntegerArray>\n",
      "[100097, 101021, 102965, 102989, 103131, 103144, 105257, 107639, 107914,\n",
      " 108089,\n",
      " ...\n",
      " 990885, 990942, 993398, 995838, 996164, 997832, 997897, 998425, 999143,\n",
      " 999194]\n",
      "Length: 1043, dtype: Int64\n",
      "Subject <StringArray>\n",
      "['Por', 'Math']\n",
      "Length: 2, dtype: string\n",
      "school <StringArray>\n",
      "['GP', 'MS']\n",
      "Length: 2, dtype: string\n",
      "sex <StringArray>\n",
      "['F', 'M']\n",
      "Length: 2, dtype: string\n",
      "age <IntegerArray>\n",
      "[16, 17, 18, 15, 19, 21, 20, 22]\n",
      "Length: 8, dtype: Int64\n",
      "address <StringArray>\n",
      "['U', 'R']\n",
      "Length: 2, dtype: string\n",
      "famsize <StringArray>\n",
      "['GT3', 'LE3']\n",
      "Length: 2, dtype: string\n",
      "Pstatus <StringArray>\n",
      "['A', 'T']\n",
      "Length: 2, dtype: string\n",
      "Medu [3 1 2 4 0]\n",
      "Fedu [4 2 3 1 0]\n",
      "Mjob <StringArray>\n",
      "['services', 'other', 'health', 'at_home', 'teacher']\n",
      "Length: 5, dtype: string\n",
      "Fjob <StringArray>\n",
      "['other', 'services', 'health', 'at_home', 'teacher']\n",
      "Length: 5, dtype: string\n",
      "reason <StringArray>\n",
      "['course', 'home', 'reputation', 'other']\n",
      "Length: 4, dtype: string\n",
      "guardian <StringArray>\n",
      "['father', 'mother', 'other']\n",
      "Length: 3, dtype: string\n",
      "traveltime <IntegerArray>\n",
      "[1, 2, 3, 4]\n",
      "Length: 4, dtype: Int64\n",
      "studytime <IntegerArray>\n",
      "[1, 2, 4, 3]\n",
      "Length: 4, dtype: Int64\n",
      "failures <IntegerArray>\n",
      "[0, 2, 1, 3]\n",
      "Length: 4, dtype: Int64\n",
      "schoolsup <StringArray>\n",
      "['no', 'yes']\n",
      "Length: 2, dtype: string\n",
      "famsup <StringArray>\n",
      "['no', 'yes']\n",
      "Length: 2, dtype: string\n",
      "paid <StringArray>\n",
      "['no', 'yes']\n",
      "Length: 2, dtype: string\n",
      "activities <StringArray>\n",
      "['no', 'yes']\n",
      "Length: 2, dtype: string\n",
      "nursery <StringArray>\n",
      "['yes', 'no']\n",
      "Length: 2, dtype: string\n",
      "higher <StringArray>\n",
      "['yes', 'no']\n",
      "Length: 2, dtype: string\n",
      "internet <StringArray>\n",
      "['yes', 'no']\n",
      "Length: 2, dtype: string\n",
      "romantic <StringArray>\n",
      "['no', <NA>, 'yes']\n",
      "Length: 3, dtype: string\n",
      "famrel <IntegerArray>\n",
      "[3, 5, 4, 1, 2, <NA>]\n",
      "Length: 6, dtype: Int64\n",
      "freetime <IntegerArray>\n",
      "[2, 3, 4, 1, 5]\n",
      "Length: 5, dtype: Int64\n",
      "goout <IntegerArray>\n",
      "[1, 4, 5, 3, 2]\n",
      "Length: 5, dtype: Int64\n",
      "Dalc <IntegerArray>\n",
      "[1, 3, 4, 2, 5, <NA>]\n",
      "Length: 6, dtype: Int64\n",
      "Walc <IntegerArray>\n",
      "[4, 3, 5, 1, 2, <NA>]\n",
      "Length: 6, dtype: Int64\n",
      "health <IntegerArray>\n",
      "[5, 3, 4, 2, 1]\n",
      "Length: 5, dtype: Int64\n",
      "absences <IntegerArray>\n",
      "[12,  2,  0,  4,  6, 10,  7, 20, 14, 11, 24,  8, 16, 21,  1, 18,  5, 22,  9,\n",
      "  3, 15, 26, 25, 54, 56, 40, 19, 13, 38, 30, 17, 28, 32, 23, 75]\n",
      "Length: 35, dtype: Int64\n",
      "cheating <StringArray>\n",
      "[<NA>, 'yes', 'no']\n",
      "Length: 3, dtype: string\n",
      "G1 <IntegerArray>\n",
      "[15, 17, 9, 14, 12, 11, 13, 7, 16, 6, 8, 10, 18, 0, 5, 3, 4, 19]\n",
      "Length: 18, dtype: Int64\n",
      "G2 <IntegerArray>\n",
      "[13, 18, 8, 15, 11, 12, 14, 6, 10, 16, 5, 7, 9, 17, 0, 4, 19]\n",
      "Length: 17, dtype: Int64\n",
      "G3 <IntegerArray>\n",
      "[14, 17, 10, 16, 13, 12, 9, 6, 11, 8, 18, 15, 0, 5, 7, 19, 4, 1, 20]\n",
      "Length: 19, dtype: Int64\n",
      "<class 'pandas.core.frame.DataFrame'>\n",
      "RangeIndex: 1044 entries, 0 to 1043\n",
      "Data columns (total 35 columns):\n",
      " #   Column      Non-Null Count  Dtype \n",
      "---  ------      --------------  ----- \n",
      " 0   Subject     1044 non-null   string\n",
      " 1   school      1044 non-null   string\n",
      " 2   sex         1044 non-null   string\n",
      " 3   age         1044 non-null   Int64 \n",
      " 4   address     1044 non-null   string\n",
      " 5   famsize     1044 non-null   string\n",
      " 6   Pstatus     1044 non-null   string\n",
      " 7   Medu        1044 non-null   int64 \n",
      " 8   Fedu        1044 non-null   int64 \n",
      " 9   Mjob        1044 non-null   string\n",
      " 10  Fjob        1044 non-null   string\n",
      " 11  reason      1044 non-null   string\n",
      " 12  guardian    1044 non-null   string\n",
      " 13  traveltime  1044 non-null   Int64 \n",
      " 14  studytime   1044 non-null   Int64 \n",
      " 15  failures    1044 non-null   Int64 \n",
      " 16  schoolsup   1044 non-null   string\n",
      " 17  famsup      1044 non-null   string\n",
      " 18  paid        1044 non-null   string\n",
      " 19  activities  1044 non-null   string\n",
      " 20  nursery     1044 non-null   string\n",
      " 21  higher      1044 non-null   string\n",
      " 22  internet    1044 non-null   string\n",
      " 23  romantic    1034 non-null   string\n",
      " 24  famrel      1034 non-null   Int64 \n",
      " 25  freetime    1044 non-null   Int64 \n",
      " 26  goout       1044 non-null   Int64 \n",
      " 27  Dalc        1034 non-null   Int64 \n",
      " 28  Walc        1034 non-null   Int64 \n",
      " 29  health      1044 non-null   Int64 \n",
      " 30  absences    1044 non-null   Int64 \n",
      " 31  cheating    344 non-null    string\n",
      " 32  G1          1044 non-null   Int64 \n",
      " 33  G2          1044 non-null   Int64 \n",
      " 34  G3          1044 non-null   Int64 \n",
      "dtypes: Int64(14), int64(2), string(19)\n",
      "memory usage: 299.9 KB\n"
     ]
    }
   ],
   "source": [
    "data = data.convert_dtypes()\n",
    "print(\"Data types for each columns:\")\n",
    "print(data.dtypes)\n",
    "print(\"Data before replacing: \")\n",
    "for i in data.columns:\n",
    "    print(i, end=\" \")\n",
    "    print(data[i].unique())\n",
    "data.sex.replace(to_replace={\"m\" : \"M\"}, inplace=True)\n",
    "data.Pstatus.replace(to_replace={\"t\" : \"T\"}, inplace=True)\n",
    "data.Medu.replace(to_replace={\"o\" : '0', 0:'0'}, inplace=True)\n",
    "data.Fedu.replace(to_replace={\"o\" : '0', 0:'0'}, inplace=True)\n",
    "data.Mjob.replace(to_replace={\"at-home\" : \"at_home\"}, inplace=True)\n",
    "data.Fjob.replace(to_replace={\"at-home\" : \"at_home\"}, inplace=True)\n",
    "data.guardian.replace(to_replace={\"futher\" : \"father\"}, inplace=True)\n",
    "data = data.convert_dtypes()\n",
    "data[\"Fedu\"] = data[\"Fedu\"].astype(int)\n",
    "data[\"Medu\"] = data[\"Medu\"].astype(int)\n",
    "print(\"Data after replacing: \")\n",
    "for i in data.columns:\n",
    "    print(i, end=\" \")\n",
    "    print(data[i].unique())\n",
    "data = data.drop(\"ID\", axis = 1)\n",
    "data.info()"
   ]
  },
  {
   "cell_type": "code",
   "execution_count": 84,
   "metadata": {
    "colab": {
     "base_uri": "https://localhost:8080/",
     "height": 1000
    },
    "id": "70ZZAMTBO9IP",
    "outputId": "18394ea2-07f1-4b3c-ea63-e38d251600b3"
   },
   "outputs": [
    {
     "name": "stdout",
     "output_type": "stream",
     "text": [
      "Number of NaN: 740\n",
      "Columns that contains Nan: ['romantic', 'famrel', 'Dalc', 'Walc', 'cheating']\n",
      "Subject         0\n",
      "school          0\n",
      "sex             0\n",
      "age             0\n",
      "address         0\n",
      "famsize         0\n",
      "Pstatus         0\n",
      "Medu            0\n",
      "Fedu            0\n",
      "Mjob            0\n",
      "Fjob            0\n",
      "reason          0\n",
      "guardian        0\n",
      "traveltime      0\n",
      "studytime       0\n",
      "failures        0\n",
      "schoolsup       0\n",
      "famsup          0\n",
      "paid            0\n",
      "activities      0\n",
      "nursery         0\n",
      "higher          0\n",
      "internet        0\n",
      "romantic       10\n",
      "famrel         10\n",
      "freetime        0\n",
      "goout           0\n",
      "Dalc           10\n",
      "Walc           10\n",
      "health          0\n",
      "absences        0\n",
      "cheating      700\n",
      "G1              0\n",
      "G2              0\n",
      "G3              0\n",
      "dtype: int64\n"
     ]
    },
    {
     "data": {
      "text/html": [
       "<div>\n",
       "<style scoped>\n",
       "    .dataframe tbody tr th:only-of-type {\n",
       "        vertical-align: middle;\n",
       "    }\n",
       "\n",
       "    .dataframe tbody tr th {\n",
       "        vertical-align: top;\n",
       "    }\n",
       "\n",
       "    .dataframe thead th {\n",
       "        text-align: right;\n",
       "    }\n",
       "</style>\n",
       "<table border=\"1\" class=\"dataframe\">\n",
       "  <thead>\n",
       "    <tr style=\"text-align: right;\">\n",
       "      <th></th>\n",
       "      <th>Subject</th>\n",
       "      <th>school</th>\n",
       "      <th>sex</th>\n",
       "      <th>age</th>\n",
       "      <th>address</th>\n",
       "      <th>famsize</th>\n",
       "      <th>Pstatus</th>\n",
       "      <th>Medu</th>\n",
       "      <th>Fedu</th>\n",
       "      <th>Mjob</th>\n",
       "      <th>Fjob</th>\n",
       "      <th>reason</th>\n",
       "      <th>guardian</th>\n",
       "      <th>traveltime</th>\n",
       "      <th>studytime</th>\n",
       "      <th>failures</th>\n",
       "      <th>schoolsup</th>\n",
       "      <th>famsup</th>\n",
       "      <th>paid</th>\n",
       "      <th>activities</th>\n",
       "      <th>nursery</th>\n",
       "      <th>higher</th>\n",
       "      <th>internet</th>\n",
       "      <th>romantic</th>\n",
       "      <th>famrel</th>\n",
       "      <th>freetime</th>\n",
       "      <th>goout</th>\n",
       "      <th>Dalc</th>\n",
       "      <th>Walc</th>\n",
       "      <th>health</th>\n",
       "      <th>absences</th>\n",
       "      <th>cheating</th>\n",
       "      <th>G1</th>\n",
       "      <th>G2</th>\n",
       "      <th>G3</th>\n",
       "    </tr>\n",
       "  </thead>\n",
       "  <tbody>\n",
       "    <tr>\n",
       "      <th>0</th>\n",
       "      <td>Por</td>\n",
       "      <td>GP</td>\n",
       "      <td>F</td>\n",
       "      <td>16</td>\n",
       "      <td>U</td>\n",
       "      <td>GT3</td>\n",
       "      <td>A</td>\n",
       "      <td>3</td>\n",
       "      <td>4</td>\n",
       "      <td>services</td>\n",
       "      <td>other</td>\n",
       "      <td>course</td>\n",
       "      <td>father</td>\n",
       "      <td>1</td>\n",
       "      <td>1</td>\n",
       "      <td>0</td>\n",
       "      <td>no</td>\n",
       "      <td>no</td>\n",
       "      <td>no</td>\n",
       "      <td>no</td>\n",
       "      <td>yes</td>\n",
       "      <td>yes</td>\n",
       "      <td>yes</td>\n",
       "      <td>no</td>\n",
       "      <td>3</td>\n",
       "      <td>2</td>\n",
       "      <td>1</td>\n",
       "      <td>1</td>\n",
       "      <td>4</td>\n",
       "      <td>5</td>\n",
       "      <td>12</td>\n",
       "      <td>no</td>\n",
       "      <td>15</td>\n",
       "      <td>13</td>\n",
       "      <td>14</td>\n",
       "    </tr>\n",
       "    <tr>\n",
       "      <th>1</th>\n",
       "      <td>Por</td>\n",
       "      <td>GP</td>\n",
       "      <td>F</td>\n",
       "      <td>17</td>\n",
       "      <td>U</td>\n",
       "      <td>GT3</td>\n",
       "      <td>T</td>\n",
       "      <td>3</td>\n",
       "      <td>2</td>\n",
       "      <td>other</td>\n",
       "      <td>other</td>\n",
       "      <td>course</td>\n",
       "      <td>mother</td>\n",
       "      <td>1</td>\n",
       "      <td>2</td>\n",
       "      <td>0</td>\n",
       "      <td>no</td>\n",
       "      <td>no</td>\n",
       "      <td>no</td>\n",
       "      <td>yes</td>\n",
       "      <td>no</td>\n",
       "      <td>yes</td>\n",
       "      <td>yes</td>\n",
       "      <td>no</td>\n",
       "      <td>5</td>\n",
       "      <td>3</td>\n",
       "      <td>4</td>\n",
       "      <td>1</td>\n",
       "      <td>3</td>\n",
       "      <td>3</td>\n",
       "      <td>2</td>\n",
       "      <td>no</td>\n",
       "      <td>17</td>\n",
       "      <td>18</td>\n",
       "      <td>17</td>\n",
       "    </tr>\n",
       "    <tr>\n",
       "      <th>2</th>\n",
       "      <td>Por</td>\n",
       "      <td>GP</td>\n",
       "      <td>M</td>\n",
       "      <td>16</td>\n",
       "      <td>U</td>\n",
       "      <td>LE3</td>\n",
       "      <td>T</td>\n",
       "      <td>1</td>\n",
       "      <td>2</td>\n",
       "      <td>health</td>\n",
       "      <td>services</td>\n",
       "      <td>course</td>\n",
       "      <td>mother</td>\n",
       "      <td>2</td>\n",
       "      <td>1</td>\n",
       "      <td>2</td>\n",
       "      <td>no</td>\n",
       "      <td>no</td>\n",
       "      <td>no</td>\n",
       "      <td>no</td>\n",
       "      <td>no</td>\n",
       "      <td>yes</td>\n",
       "      <td>yes</td>\n",
       "      <td>no</td>\n",
       "      <td>4</td>\n",
       "      <td>4</td>\n",
       "      <td>5</td>\n",
       "      <td>3</td>\n",
       "      <td>5</td>\n",
       "      <td>5</td>\n",
       "      <td>0</td>\n",
       "      <td>yes</td>\n",
       "      <td>9</td>\n",
       "      <td>8</td>\n",
       "      <td>10</td>\n",
       "    </tr>\n",
       "    <tr>\n",
       "      <th>3</th>\n",
       "      <td>Por</td>\n",
       "      <td>MS</td>\n",
       "      <td>M</td>\n",
       "      <td>17</td>\n",
       "      <td>U</td>\n",
       "      <td>GT3</td>\n",
       "      <td>T</td>\n",
       "      <td>2</td>\n",
       "      <td>3</td>\n",
       "      <td>other</td>\n",
       "      <td>services</td>\n",
       "      <td>home</td>\n",
       "      <td>father</td>\n",
       "      <td>2</td>\n",
       "      <td>2</td>\n",
       "      <td>0</td>\n",
       "      <td>no</td>\n",
       "      <td>no</td>\n",
       "      <td>no</td>\n",
       "      <td>yes</td>\n",
       "      <td>yes</td>\n",
       "      <td>yes</td>\n",
       "      <td>yes</td>\n",
       "      <td>no</td>\n",
       "      <td>4</td>\n",
       "      <td>4</td>\n",
       "      <td>3</td>\n",
       "      <td>1</td>\n",
       "      <td>1</td>\n",
       "      <td>3</td>\n",
       "      <td>4</td>\n",
       "      <td>no</td>\n",
       "      <td>14</td>\n",
       "      <td>15</td>\n",
       "      <td>16</td>\n",
       "    </tr>\n",
       "    <tr>\n",
       "      <th>5</th>\n",
       "      <td>Por</td>\n",
       "      <td>GP</td>\n",
       "      <td>M</td>\n",
       "      <td>18</td>\n",
       "      <td>U</td>\n",
       "      <td>LE3</td>\n",
       "      <td>T</td>\n",
       "      <td>3</td>\n",
       "      <td>1</td>\n",
       "      <td>services</td>\n",
       "      <td>services</td>\n",
       "      <td>course</td>\n",
       "      <td>mother</td>\n",
       "      <td>2</td>\n",
       "      <td>1</td>\n",
       "      <td>0</td>\n",
       "      <td>no</td>\n",
       "      <td>no</td>\n",
       "      <td>no</td>\n",
       "      <td>yes</td>\n",
       "      <td>yes</td>\n",
       "      <td>yes</td>\n",
       "      <td>yes</td>\n",
       "      <td>yes</td>\n",
       "      <td>3</td>\n",
       "      <td>3</td>\n",
       "      <td>4</td>\n",
       "      <td>4</td>\n",
       "      <td>5</td>\n",
       "      <td>4</td>\n",
       "      <td>2</td>\n",
       "      <td>no</td>\n",
       "      <td>11</td>\n",
       "      <td>11</td>\n",
       "      <td>12</td>\n",
       "    </tr>\n",
       "    <tr>\n",
       "      <th>...</th>\n",
       "      <td>...</td>\n",
       "      <td>...</td>\n",
       "      <td>...</td>\n",
       "      <td>...</td>\n",
       "      <td>...</td>\n",
       "      <td>...</td>\n",
       "      <td>...</td>\n",
       "      <td>...</td>\n",
       "      <td>...</td>\n",
       "      <td>...</td>\n",
       "      <td>...</td>\n",
       "      <td>...</td>\n",
       "      <td>...</td>\n",
       "      <td>...</td>\n",
       "      <td>...</td>\n",
       "      <td>...</td>\n",
       "      <td>...</td>\n",
       "      <td>...</td>\n",
       "      <td>...</td>\n",
       "      <td>...</td>\n",
       "      <td>...</td>\n",
       "      <td>...</td>\n",
       "      <td>...</td>\n",
       "      <td>...</td>\n",
       "      <td>...</td>\n",
       "      <td>...</td>\n",
       "      <td>...</td>\n",
       "      <td>...</td>\n",
       "      <td>...</td>\n",
       "      <td>...</td>\n",
       "      <td>...</td>\n",
       "      <td>...</td>\n",
       "      <td>...</td>\n",
       "      <td>...</td>\n",
       "      <td>...</td>\n",
       "    </tr>\n",
       "    <tr>\n",
       "      <th>1037</th>\n",
       "      <td>Por</td>\n",
       "      <td>MS</td>\n",
       "      <td>F</td>\n",
       "      <td>15</td>\n",
       "      <td>R</td>\n",
       "      <td>GT3</td>\n",
       "      <td>T</td>\n",
       "      <td>3</td>\n",
       "      <td>3</td>\n",
       "      <td>services</td>\n",
       "      <td>other</td>\n",
       "      <td>reputation</td>\n",
       "      <td>mother</td>\n",
       "      <td>1</td>\n",
       "      <td>2</td>\n",
       "      <td>0</td>\n",
       "      <td>no</td>\n",
       "      <td>yes</td>\n",
       "      <td>no</td>\n",
       "      <td>no</td>\n",
       "      <td>yes</td>\n",
       "      <td>yes</td>\n",
       "      <td>yes</td>\n",
       "      <td>yes</td>\n",
       "      <td>4</td>\n",
       "      <td>5</td>\n",
       "      <td>4</td>\n",
       "      <td>1</td>\n",
       "      <td>1</td>\n",
       "      <td>1</td>\n",
       "      <td>4</td>\n",
       "      <td>no</td>\n",
       "      <td>13</td>\n",
       "      <td>12</td>\n",
       "      <td>12</td>\n",
       "    </tr>\n",
       "    <tr>\n",
       "      <th>1038</th>\n",
       "      <td>Por</td>\n",
       "      <td>GP</td>\n",
       "      <td>M</td>\n",
       "      <td>16</td>\n",
       "      <td>U</td>\n",
       "      <td>LE3</td>\n",
       "      <td>T</td>\n",
       "      <td>2</td>\n",
       "      <td>2</td>\n",
       "      <td>other</td>\n",
       "      <td>other</td>\n",
       "      <td>home</td>\n",
       "      <td>mother</td>\n",
       "      <td>1</td>\n",
       "      <td>2</td>\n",
       "      <td>0</td>\n",
       "      <td>no</td>\n",
       "      <td>no</td>\n",
       "      <td>no</td>\n",
       "      <td>no</td>\n",
       "      <td>yes</td>\n",
       "      <td>yes</td>\n",
       "      <td>yes</td>\n",
       "      <td>no</td>\n",
       "      <td>4</td>\n",
       "      <td>4</td>\n",
       "      <td>4</td>\n",
       "      <td>1</td>\n",
       "      <td>1</td>\n",
       "      <td>3</td>\n",
       "      <td>0</td>\n",
       "      <td>no</td>\n",
       "      <td>13</td>\n",
       "      <td>12</td>\n",
       "      <td>13</td>\n",
       "    </tr>\n",
       "    <tr>\n",
       "      <th>1039</th>\n",
       "      <td>Math</td>\n",
       "      <td>GP</td>\n",
       "      <td>F</td>\n",
       "      <td>15</td>\n",
       "      <td>R</td>\n",
       "      <td>GT3</td>\n",
       "      <td>T</td>\n",
       "      <td>3</td>\n",
       "      <td>3</td>\n",
       "      <td>services</td>\n",
       "      <td>services</td>\n",
       "      <td>reputation</td>\n",
       "      <td>other</td>\n",
       "      <td>2</td>\n",
       "      <td>3</td>\n",
       "      <td>2</td>\n",
       "      <td>no</td>\n",
       "      <td>yes</td>\n",
       "      <td>yes</td>\n",
       "      <td>yes</td>\n",
       "      <td>yes</td>\n",
       "      <td>yes</td>\n",
       "      <td>yes</td>\n",
       "      <td>yes</td>\n",
       "      <td>4</td>\n",
       "      <td>2</td>\n",
       "      <td>1</td>\n",
       "      <td>2</td>\n",
       "      <td>3</td>\n",
       "      <td>3</td>\n",
       "      <td>8</td>\n",
       "      <td>no</td>\n",
       "      <td>10</td>\n",
       "      <td>10</td>\n",
       "      <td>10</td>\n",
       "    </tr>\n",
       "    <tr>\n",
       "      <th>1040</th>\n",
       "      <td>Por</td>\n",
       "      <td>GP</td>\n",
       "      <td>M</td>\n",
       "      <td>15</td>\n",
       "      <td>R</td>\n",
       "      <td>GT3</td>\n",
       "      <td>T</td>\n",
       "      <td>2</td>\n",
       "      <td>1</td>\n",
       "      <td>health</td>\n",
       "      <td>services</td>\n",
       "      <td>reputation</td>\n",
       "      <td>mother</td>\n",
       "      <td>1</td>\n",
       "      <td>2</td>\n",
       "      <td>0</td>\n",
       "      <td>no</td>\n",
       "      <td>no</td>\n",
       "      <td>no</td>\n",
       "      <td>yes</td>\n",
       "      <td>yes</td>\n",
       "      <td>yes</td>\n",
       "      <td>yes</td>\n",
       "      <td>yes</td>\n",
       "      <td>5</td>\n",
       "      <td>4</td>\n",
       "      <td>2</td>\n",
       "      <td>1</td>\n",
       "      <td>1</td>\n",
       "      <td>5</td>\n",
       "      <td>4</td>\n",
       "      <td>no</td>\n",
       "      <td>10</td>\n",
       "      <td>9</td>\n",
       "      <td>10</td>\n",
       "    </tr>\n",
       "    <tr>\n",
       "      <th>1042</th>\n",
       "      <td>Por</td>\n",
       "      <td>GP</td>\n",
       "      <td>M</td>\n",
       "      <td>16</td>\n",
       "      <td>U</td>\n",
       "      <td>GT3</td>\n",
       "      <td>T</td>\n",
       "      <td>2</td>\n",
       "      <td>1</td>\n",
       "      <td>at_home</td>\n",
       "      <td>other</td>\n",
       "      <td>course</td>\n",
       "      <td>mother</td>\n",
       "      <td>4</td>\n",
       "      <td>1</td>\n",
       "      <td>0</td>\n",
       "      <td>no</td>\n",
       "      <td>no</td>\n",
       "      <td>no</td>\n",
       "      <td>no</td>\n",
       "      <td>yes</td>\n",
       "      <td>yes</td>\n",
       "      <td>no</td>\n",
       "      <td>no</td>\n",
       "      <td>3</td>\n",
       "      <td>2</td>\n",
       "      <td>1</td>\n",
       "      <td>1</td>\n",
       "      <td>1</td>\n",
       "      <td>2</td>\n",
       "      <td>4</td>\n",
       "      <td>no</td>\n",
       "      <td>9</td>\n",
       "      <td>9</td>\n",
       "      <td>11</td>\n",
       "    </tr>\n",
       "  </tbody>\n",
       "</table>\n",
       "<p>1004 rows × 35 columns</p>\n",
       "</div>"
      ],
      "text/plain": [
       "     Subject school sex  age address famsize Pstatus  Medu  Fedu      Mjob  \\\n",
       "0        Por     GP   F   16       U     GT3       A     3     4  services   \n",
       "1        Por     GP   F   17       U     GT3       T     3     2     other   \n",
       "2        Por     GP   M   16       U     LE3       T     1     2    health   \n",
       "3        Por     MS   M   17       U     GT3       T     2     3     other   \n",
       "5        Por     GP   M   18       U     LE3       T     3     1  services   \n",
       "...      ...    ...  ..  ...     ...     ...     ...   ...   ...       ...   \n",
       "1037     Por     MS   F   15       R     GT3       T     3     3  services   \n",
       "1038     Por     GP   M   16       U     LE3       T     2     2     other   \n",
       "1039    Math     GP   F   15       R     GT3       T     3     3  services   \n",
       "1040     Por     GP   M   15       R     GT3       T     2     1    health   \n",
       "1042     Por     GP   M   16       U     GT3       T     2     1   at_home   \n",
       "\n",
       "          Fjob      reason guardian  traveltime  studytime  failures  \\\n",
       "0        other      course   father           1          1         0   \n",
       "1        other      course   mother           1          2         0   \n",
       "2     services      course   mother           2          1         2   \n",
       "3     services        home   father           2          2         0   \n",
       "5     services      course   mother           2          1         0   \n",
       "...        ...         ...      ...         ...        ...       ...   \n",
       "1037     other  reputation   mother           1          2         0   \n",
       "1038     other        home   mother           1          2         0   \n",
       "1039  services  reputation    other           2          3         2   \n",
       "1040  services  reputation   mother           1          2         0   \n",
       "1042     other      course   mother           4          1         0   \n",
       "\n",
       "     schoolsup famsup paid activities nursery higher internet romantic  \\\n",
       "0           no     no   no         no     yes    yes      yes       no   \n",
       "1           no     no   no        yes      no    yes      yes       no   \n",
       "2           no     no   no         no      no    yes      yes       no   \n",
       "3           no     no   no        yes     yes    yes      yes       no   \n",
       "5           no     no   no        yes     yes    yes      yes      yes   \n",
       "...        ...    ...  ...        ...     ...    ...      ...      ...   \n",
       "1037        no    yes   no         no     yes    yes      yes      yes   \n",
       "1038        no     no   no         no     yes    yes      yes       no   \n",
       "1039        no    yes  yes        yes     yes    yes      yes      yes   \n",
       "1040        no     no   no        yes     yes    yes      yes      yes   \n",
       "1042        no     no   no         no     yes    yes       no       no   \n",
       "\n",
       "      famrel  freetime  goout  Dalc  Walc  health  absences cheating  G1  G2  \\\n",
       "0          3         2      1     1     4       5        12       no  15  13   \n",
       "1          5         3      4     1     3       3         2       no  17  18   \n",
       "2          4         4      5     3     5       5         0      yes   9   8   \n",
       "3          4         4      3     1     1       3         4       no  14  15   \n",
       "5          3         3      4     4     5       4         2       no  11  11   \n",
       "...      ...       ...    ...   ...   ...     ...       ...      ...  ..  ..   \n",
       "1037       4         5      4     1     1       1         4       no  13  12   \n",
       "1038       4         4      4     1     1       3         0       no  13  12   \n",
       "1039       4         2      1     2     3       3         8       no  10  10   \n",
       "1040       5         4      2     1     1       5         4       no  10   9   \n",
       "1042       3         2      1     1     1       2         4       no   9   9   \n",
       "\n",
       "      G3  \n",
       "0     14  \n",
       "1     17  \n",
       "2     10  \n",
       "3     16  \n",
       "5     12  \n",
       "...   ..  \n",
       "1037  12  \n",
       "1038  13  \n",
       "1039  10  \n",
       "1040  10  \n",
       "1042  11  \n",
       "\n",
       "[1004 rows x 35 columns]"
      ]
     },
     "execution_count": 84,
     "metadata": {},
     "output_type": "execute_result"
    }
   ],
   "source": [
    "print(\"Number of NaN: \" + str(data.isna().sum().sum()))\n",
    "print(\"Columns that contains Nan:\", end=\" \")\n",
    "print(data.columns[data.isna().any()].tolist())\n",
    "print(data.isna().sum())\n",
    "data[\"cheating\"] = data[\"cheating\"].fillna(\"no\")\n",
    "data = data.dropna()\n",
    "data"
   ]
  },
  {
   "cell_type": "markdown",
   "metadata": {
    "id": "TPbDyvoiOf6K"
   },
   "source": [
    "Зависимость итоговой оценки от числовых признаков:"
   ]
  },
  {
   "cell_type": "code",
   "execution_count": 85,
   "metadata": {
    "colab": {
     "base_uri": "https://localhost:8080/"
    },
    "id": "mLEhi6k0OkbQ",
    "outputId": "eb7aa49e-ad92-4250-eb3b-9855129fc44e"
   },
   "outputs": [
    {
     "data": {
      "text/plain": [
       "age          -0.117976\n",
       "Medu          0.207814\n",
       "Fedu          0.164776\n",
       "traveltime   -0.112519\n",
       "studytime     0.158775\n",
       "failures     -0.382542\n",
       "famrel        0.052474\n",
       "freetime     -0.057242\n",
       "goout        -0.092770\n",
       "Dalc         -0.125858\n",
       "Walc         -0.110614\n",
       "health       -0.070054\n",
       "absences     -0.043690\n",
       "G1            0.807610\n",
       "G2            0.910560\n",
       "G3            1.000000\n",
       "Name: G3, dtype: float64"
      ]
     },
     "execution_count": 85,
     "metadata": {},
     "output_type": "execute_result"
    }
   ],
   "source": [
    "cor = data.corr()\n",
    "cor[\"G3\"]"
   ]
  },
  {
   "cell_type": "markdown",
   "metadata": {
    "id": "f35Rk3_wRidG"
   },
   "source": [
    "Зависимость итоговой оценки от категориальных признаков:\n"
   ]
  },
  {
   "cell_type": "code",
   "execution_count": 86,
   "metadata": {
    "colab": {
     "base_uri": "https://localhost:8080/"
    },
    "id": "65H4COKNSBdL",
    "outputId": "8fdfe95a-6f81-4e8b-f0e5-5529bfa42109"
   },
   "outputs": [
    {
     "data": {
      "text/plain": [
       "Subject_Math        -0.194425\n",
       "Subject_Por          0.194425\n",
       "school_GP            0.116344\n",
       "school_MS           -0.116344\n",
       "sex_F                0.029187\n",
       "sex_M               -0.029187\n",
       "address_R           -0.112852\n",
       "address_U            0.112852\n",
       "famsize_GT3         -0.056160\n",
       "famsize_LE3          0.056160\n",
       "Pstatus_A            0.023798\n",
       "Pstatus_T           -0.023798\n",
       "Mjob_at_home        -0.111212\n",
       "Mjob_health          0.104835\n",
       "Mjob_other          -0.072740\n",
       "Mjob_services        0.047449\n",
       "Mjob_teacher         0.093376\n",
       "Fjob_at_home        -0.020266\n",
       "Fjob_health          0.045908\n",
       "Fjob_other          -0.032220\n",
       "Fjob_services       -0.027232\n",
       "Fjob_teacher         0.101718\n",
       "reason_course       -0.085107\n",
       "reason_home          0.008895\n",
       "reason_other        -0.046167\n",
       "reason_reputation    0.123305\n",
       "guardian_father      0.044285\n",
       "guardian_mother      0.006613\n",
       "guardian_other      -0.085447\n",
       "schoolsup_no         0.069563\n",
       "schoolsup_yes       -0.069563\n",
       "famsup_no           -0.016054\n",
       "famsup_yes           0.016054\n",
       "paid_no              0.051571\n",
       "paid_yes            -0.051571\n",
       "activities_no       -0.032317\n",
       "activities_yes       0.032317\n",
       "nursery_no          -0.041225\n",
       "nursery_yes          0.041225\n",
       "higher_no           -0.231535\n",
       "higher_yes           0.231535\n",
       "internet_no         -0.114937\n",
       "internet_yes         0.114937\n",
       "romantic_no          0.102574\n",
       "romantic_yes        -0.102574\n",
       "cheating_no          0.015393\n",
       "cheating_yes        -0.015393\n",
       "G3                   1.000000\n",
       "Name: G3, dtype: float64"
      ]
     },
     "execution_count": 86,
     "metadata": {},
     "output_type": "execute_result"
    }
   ],
   "source": [
    "categoricalColumns = [\"Subject\", \"school\", \"sex\", \"address\", \"famsize\", \"Pstatus\",\n",
    "                          \"Mjob\", \"Fjob\", \"reason\", \"guardian\",\n",
    "                          \"schoolsup\", \"famsup\", \"paid\", \"activities\", \"nursery\",\n",
    "                          \"higher\", \"internet\", \"romantic\", \"cheating\"]\n",
    "df = pd.get_dummies(data = data[categoricalColumns], prefix=categoricalColumns, columns = categoricalColumns)\n",
    "df[\"G3\"] = data[\"G3\"]\n",
    "cor = df.corr()\n",
    "cor[\"G3\"]"
   ]
  },
  {
   "cell_type": "markdown",
   "metadata": {
    "id": "uj4ApU7YqF-Q"
   },
   "source": [
    "Исходя из полученных данных я решил, что можно убрать все признаки, где коэффицент корреляции по модую меньше 0.07."
   ]
  },
  {
   "cell_type": "code",
   "execution_count": 87,
   "metadata": {
    "colab": {
     "base_uri": "https://localhost:8080/",
     "height": 439
    },
    "id": "VsQrGKmIqta8",
    "outputId": "2f07c01d-20e3-43ab-ef46-49fb4de328f2"
   },
   "outputs": [
    {
     "data": {
      "text/html": [
       "<div>\n",
       "<style scoped>\n",
       "    .dataframe tbody tr th:only-of-type {\n",
       "        vertical-align: middle;\n",
       "    }\n",
       "\n",
       "    .dataframe tbody tr th {\n",
       "        vertical-align: top;\n",
       "    }\n",
       "\n",
       "    .dataframe thead th {\n",
       "        text-align: right;\n",
       "    }\n",
       "</style>\n",
       "<table border=\"1\" class=\"dataframe\">\n",
       "  <thead>\n",
       "    <tr style=\"text-align: right;\">\n",
       "      <th></th>\n",
       "      <th>Subject</th>\n",
       "      <th>school</th>\n",
       "      <th>age</th>\n",
       "      <th>address</th>\n",
       "      <th>Medu</th>\n",
       "      <th>Fedu</th>\n",
       "      <th>Mjob</th>\n",
       "      <th>Fjob</th>\n",
       "      <th>reason</th>\n",
       "      <th>traveltime</th>\n",
       "      <th>studytime</th>\n",
       "      <th>failures</th>\n",
       "      <th>higher</th>\n",
       "      <th>internet</th>\n",
       "      <th>romantic</th>\n",
       "      <th>goout</th>\n",
       "      <th>Dalc</th>\n",
       "      <th>Walc</th>\n",
       "      <th>health</th>\n",
       "      <th>G1</th>\n",
       "      <th>G2</th>\n",
       "      <th>G3</th>\n",
       "    </tr>\n",
       "  </thead>\n",
       "  <tbody>\n",
       "    <tr>\n",
       "      <th>0</th>\n",
       "      <td>Por</td>\n",
       "      <td>GP</td>\n",
       "      <td>16</td>\n",
       "      <td>U</td>\n",
       "      <td>3</td>\n",
       "      <td>4</td>\n",
       "      <td>services</td>\n",
       "      <td>other</td>\n",
       "      <td>course</td>\n",
       "      <td>1</td>\n",
       "      <td>1</td>\n",
       "      <td>0</td>\n",
       "      <td>yes</td>\n",
       "      <td>yes</td>\n",
       "      <td>no</td>\n",
       "      <td>1</td>\n",
       "      <td>1</td>\n",
       "      <td>4</td>\n",
       "      <td>5</td>\n",
       "      <td>15</td>\n",
       "      <td>13</td>\n",
       "      <td>14</td>\n",
       "    </tr>\n",
       "    <tr>\n",
       "      <th>1</th>\n",
       "      <td>Por</td>\n",
       "      <td>GP</td>\n",
       "      <td>17</td>\n",
       "      <td>U</td>\n",
       "      <td>3</td>\n",
       "      <td>2</td>\n",
       "      <td>other</td>\n",
       "      <td>other</td>\n",
       "      <td>course</td>\n",
       "      <td>1</td>\n",
       "      <td>2</td>\n",
       "      <td>0</td>\n",
       "      <td>yes</td>\n",
       "      <td>yes</td>\n",
       "      <td>no</td>\n",
       "      <td>4</td>\n",
       "      <td>1</td>\n",
       "      <td>3</td>\n",
       "      <td>3</td>\n",
       "      <td>17</td>\n",
       "      <td>18</td>\n",
       "      <td>17</td>\n",
       "    </tr>\n",
       "    <tr>\n",
       "      <th>2</th>\n",
       "      <td>Por</td>\n",
       "      <td>GP</td>\n",
       "      <td>16</td>\n",
       "      <td>U</td>\n",
       "      <td>1</td>\n",
       "      <td>2</td>\n",
       "      <td>health</td>\n",
       "      <td>services</td>\n",
       "      <td>course</td>\n",
       "      <td>2</td>\n",
       "      <td>1</td>\n",
       "      <td>2</td>\n",
       "      <td>yes</td>\n",
       "      <td>yes</td>\n",
       "      <td>no</td>\n",
       "      <td>5</td>\n",
       "      <td>3</td>\n",
       "      <td>5</td>\n",
       "      <td>5</td>\n",
       "      <td>9</td>\n",
       "      <td>8</td>\n",
       "      <td>10</td>\n",
       "    </tr>\n",
       "    <tr>\n",
       "      <th>3</th>\n",
       "      <td>Por</td>\n",
       "      <td>MS</td>\n",
       "      <td>17</td>\n",
       "      <td>U</td>\n",
       "      <td>2</td>\n",
       "      <td>3</td>\n",
       "      <td>other</td>\n",
       "      <td>services</td>\n",
       "      <td>home</td>\n",
       "      <td>2</td>\n",
       "      <td>2</td>\n",
       "      <td>0</td>\n",
       "      <td>yes</td>\n",
       "      <td>yes</td>\n",
       "      <td>no</td>\n",
       "      <td>3</td>\n",
       "      <td>1</td>\n",
       "      <td>1</td>\n",
       "      <td>3</td>\n",
       "      <td>14</td>\n",
       "      <td>15</td>\n",
       "      <td>16</td>\n",
       "    </tr>\n",
       "    <tr>\n",
       "      <th>5</th>\n",
       "      <td>Por</td>\n",
       "      <td>GP</td>\n",
       "      <td>18</td>\n",
       "      <td>U</td>\n",
       "      <td>3</td>\n",
       "      <td>1</td>\n",
       "      <td>services</td>\n",
       "      <td>services</td>\n",
       "      <td>course</td>\n",
       "      <td>2</td>\n",
       "      <td>1</td>\n",
       "      <td>0</td>\n",
       "      <td>yes</td>\n",
       "      <td>yes</td>\n",
       "      <td>yes</td>\n",
       "      <td>4</td>\n",
       "      <td>4</td>\n",
       "      <td>5</td>\n",
       "      <td>4</td>\n",
       "      <td>11</td>\n",
       "      <td>11</td>\n",
       "      <td>12</td>\n",
       "    </tr>\n",
       "    <tr>\n",
       "      <th>...</th>\n",
       "      <td>...</td>\n",
       "      <td>...</td>\n",
       "      <td>...</td>\n",
       "      <td>...</td>\n",
       "      <td>...</td>\n",
       "      <td>...</td>\n",
       "      <td>...</td>\n",
       "      <td>...</td>\n",
       "      <td>...</td>\n",
       "      <td>...</td>\n",
       "      <td>...</td>\n",
       "      <td>...</td>\n",
       "      <td>...</td>\n",
       "      <td>...</td>\n",
       "      <td>...</td>\n",
       "      <td>...</td>\n",
       "      <td>...</td>\n",
       "      <td>...</td>\n",
       "      <td>...</td>\n",
       "      <td>...</td>\n",
       "      <td>...</td>\n",
       "      <td>...</td>\n",
       "    </tr>\n",
       "    <tr>\n",
       "      <th>1037</th>\n",
       "      <td>Por</td>\n",
       "      <td>MS</td>\n",
       "      <td>15</td>\n",
       "      <td>R</td>\n",
       "      <td>3</td>\n",
       "      <td>3</td>\n",
       "      <td>services</td>\n",
       "      <td>other</td>\n",
       "      <td>reputation</td>\n",
       "      <td>1</td>\n",
       "      <td>2</td>\n",
       "      <td>0</td>\n",
       "      <td>yes</td>\n",
       "      <td>yes</td>\n",
       "      <td>yes</td>\n",
       "      <td>4</td>\n",
       "      <td>1</td>\n",
       "      <td>1</td>\n",
       "      <td>1</td>\n",
       "      <td>13</td>\n",
       "      <td>12</td>\n",
       "      <td>12</td>\n",
       "    </tr>\n",
       "    <tr>\n",
       "      <th>1038</th>\n",
       "      <td>Por</td>\n",
       "      <td>GP</td>\n",
       "      <td>16</td>\n",
       "      <td>U</td>\n",
       "      <td>2</td>\n",
       "      <td>2</td>\n",
       "      <td>other</td>\n",
       "      <td>other</td>\n",
       "      <td>home</td>\n",
       "      <td>1</td>\n",
       "      <td>2</td>\n",
       "      <td>0</td>\n",
       "      <td>yes</td>\n",
       "      <td>yes</td>\n",
       "      <td>no</td>\n",
       "      <td>4</td>\n",
       "      <td>1</td>\n",
       "      <td>1</td>\n",
       "      <td>3</td>\n",
       "      <td>13</td>\n",
       "      <td>12</td>\n",
       "      <td>13</td>\n",
       "    </tr>\n",
       "    <tr>\n",
       "      <th>1039</th>\n",
       "      <td>Math</td>\n",
       "      <td>GP</td>\n",
       "      <td>15</td>\n",
       "      <td>R</td>\n",
       "      <td>3</td>\n",
       "      <td>3</td>\n",
       "      <td>services</td>\n",
       "      <td>services</td>\n",
       "      <td>reputation</td>\n",
       "      <td>2</td>\n",
       "      <td>3</td>\n",
       "      <td>2</td>\n",
       "      <td>yes</td>\n",
       "      <td>yes</td>\n",
       "      <td>yes</td>\n",
       "      <td>1</td>\n",
       "      <td>2</td>\n",
       "      <td>3</td>\n",
       "      <td>3</td>\n",
       "      <td>10</td>\n",
       "      <td>10</td>\n",
       "      <td>10</td>\n",
       "    </tr>\n",
       "    <tr>\n",
       "      <th>1040</th>\n",
       "      <td>Por</td>\n",
       "      <td>GP</td>\n",
       "      <td>15</td>\n",
       "      <td>R</td>\n",
       "      <td>2</td>\n",
       "      <td>1</td>\n",
       "      <td>health</td>\n",
       "      <td>services</td>\n",
       "      <td>reputation</td>\n",
       "      <td>1</td>\n",
       "      <td>2</td>\n",
       "      <td>0</td>\n",
       "      <td>yes</td>\n",
       "      <td>yes</td>\n",
       "      <td>yes</td>\n",
       "      <td>2</td>\n",
       "      <td>1</td>\n",
       "      <td>1</td>\n",
       "      <td>5</td>\n",
       "      <td>10</td>\n",
       "      <td>9</td>\n",
       "      <td>10</td>\n",
       "    </tr>\n",
       "    <tr>\n",
       "      <th>1042</th>\n",
       "      <td>Por</td>\n",
       "      <td>GP</td>\n",
       "      <td>16</td>\n",
       "      <td>U</td>\n",
       "      <td>2</td>\n",
       "      <td>1</td>\n",
       "      <td>at_home</td>\n",
       "      <td>other</td>\n",
       "      <td>course</td>\n",
       "      <td>4</td>\n",
       "      <td>1</td>\n",
       "      <td>0</td>\n",
       "      <td>yes</td>\n",
       "      <td>no</td>\n",
       "      <td>no</td>\n",
       "      <td>1</td>\n",
       "      <td>1</td>\n",
       "      <td>1</td>\n",
       "      <td>2</td>\n",
       "      <td>9</td>\n",
       "      <td>9</td>\n",
       "      <td>11</td>\n",
       "    </tr>\n",
       "  </tbody>\n",
       "</table>\n",
       "<p>1004 rows × 22 columns</p>\n",
       "</div>"
      ],
      "text/plain": [
       "     Subject school  age address  Medu  Fedu      Mjob      Fjob      reason  \\\n",
       "0        Por     GP   16       U     3     4  services     other      course   \n",
       "1        Por     GP   17       U     3     2     other     other      course   \n",
       "2        Por     GP   16       U     1     2    health  services      course   \n",
       "3        Por     MS   17       U     2     3     other  services        home   \n",
       "5        Por     GP   18       U     3     1  services  services      course   \n",
       "...      ...    ...  ...     ...   ...   ...       ...       ...         ...   \n",
       "1037     Por     MS   15       R     3     3  services     other  reputation   \n",
       "1038     Por     GP   16       U     2     2     other     other        home   \n",
       "1039    Math     GP   15       R     3     3  services  services  reputation   \n",
       "1040     Por     GP   15       R     2     1    health  services  reputation   \n",
       "1042     Por     GP   16       U     2     1   at_home     other      course   \n",
       "\n",
       "      traveltime  studytime  failures higher internet romantic  goout  Dalc  \\\n",
       "0              1          1         0    yes      yes       no      1     1   \n",
       "1              1          2         0    yes      yes       no      4     1   \n",
       "2              2          1         2    yes      yes       no      5     3   \n",
       "3              2          2         0    yes      yes       no      3     1   \n",
       "5              2          1         0    yes      yes      yes      4     4   \n",
       "...          ...        ...       ...    ...      ...      ...    ...   ...   \n",
       "1037           1          2         0    yes      yes      yes      4     1   \n",
       "1038           1          2         0    yes      yes       no      4     1   \n",
       "1039           2          3         2    yes      yes      yes      1     2   \n",
       "1040           1          2         0    yes      yes      yes      2     1   \n",
       "1042           4          1         0    yes       no       no      1     1   \n",
       "\n",
       "      Walc  health  G1  G2  G3  \n",
       "0        4       5  15  13  14  \n",
       "1        3       3  17  18  17  \n",
       "2        5       5   9   8  10  \n",
       "3        1       3  14  15  16  \n",
       "5        5       4  11  11  12  \n",
       "...    ...     ...  ..  ..  ..  \n",
       "1037     1       1  13  12  12  \n",
       "1038     1       3  13  12  13  \n",
       "1039     3       3  10  10  10  \n",
       "1040     1       5  10   9  10  \n",
       "1042     1       2   9   9  11  \n",
       "\n",
       "[1004 rows x 22 columns]"
      ]
     },
     "execution_count": 87,
     "metadata": {},
     "output_type": "execute_result"
    }
   ],
   "source": [
    "data = data.drop(columns=[\"sex\", \"famsize\", \"Pstatus\", \"guardian\", \"schoolsup\", \"famsup\", \"paid\", \"activities\", \"nursery\", \"cheating\",\n",
    "                         \"famrel\", \"freetime\", \"absences\"], )\n",
    "data"
   ]
  },
  {
   "cell_type": "markdown",
   "metadata": {
    "id": "l95HhpG3sWxr"
   },
   "source": [
    "Снижение количества признаков поможет получить более высокое качество обучения моделей"
   ]
  },
  {
   "cell_type": "markdown",
   "metadata": {
    "id": "lb7GBP9Y4udG"
   },
   "source": [
    "После удаления признаков нужно до конца обработать данные"
   ]
  },
  {
   "cell_type": "code",
   "execution_count": 88,
   "metadata": {
    "id": "46E75BnPDgnm"
   },
   "outputs": [],
   "source": [
    "from sklearn.preprocessing import normalize "
   ]
  },
  {
   "cell_type": "code",
   "execution_count": 89,
   "metadata": {
    "colab": {
     "base_uri": "https://localhost:8080/",
     "height": 439
    },
    "id": "zfS1dWE74ZKY",
    "outputId": "c9b775fe-4c35-4c66-dd73-f0dd2168eb19"
   },
   "outputs": [
    {
     "data": {
      "text/html": [
       "<div>\n",
       "<style scoped>\n",
       "    .dataframe tbody tr th:only-of-type {\n",
       "        vertical-align: middle;\n",
       "    }\n",
       "\n",
       "    .dataframe tbody tr th {\n",
       "        vertical-align: top;\n",
       "    }\n",
       "\n",
       "    .dataframe thead th {\n",
       "        text-align: right;\n",
       "    }\n",
       "</style>\n",
       "<table border=\"1\" class=\"dataframe\">\n",
       "  <thead>\n",
       "    <tr style=\"text-align: right;\">\n",
       "      <th></th>\n",
       "      <th>Subject_Math</th>\n",
       "      <th>Subject_Por</th>\n",
       "      <th>school_GP</th>\n",
       "      <th>school_MS</th>\n",
       "      <th>address_R</th>\n",
       "      <th>address_U</th>\n",
       "      <th>Mjob_at_home</th>\n",
       "      <th>Mjob_health</th>\n",
       "      <th>Mjob_other</th>\n",
       "      <th>Mjob_services</th>\n",
       "      <th>Mjob_teacher</th>\n",
       "      <th>Fjob_at_home</th>\n",
       "      <th>Fjob_health</th>\n",
       "      <th>Fjob_other</th>\n",
       "      <th>Fjob_services</th>\n",
       "      <th>Fjob_teacher</th>\n",
       "      <th>reason_course</th>\n",
       "      <th>reason_home</th>\n",
       "      <th>reason_other</th>\n",
       "      <th>reason_reputation</th>\n",
       "      <th>higher_no</th>\n",
       "      <th>higher_yes</th>\n",
       "      <th>internet_no</th>\n",
       "      <th>internet_yes</th>\n",
       "      <th>romantic_no</th>\n",
       "      <th>romantic_yes</th>\n",
       "      <th>age</th>\n",
       "      <th>Medu</th>\n",
       "      <th>Fedu</th>\n",
       "      <th>traveltime</th>\n",
       "      <th>studytime</th>\n",
       "      <th>failures</th>\n",
       "      <th>goout</th>\n",
       "      <th>Dalc</th>\n",
       "      <th>Walc</th>\n",
       "      <th>health</th>\n",
       "      <th>G1</th>\n",
       "      <th>G2</th>\n",
       "      <th>G3</th>\n",
       "    </tr>\n",
       "  </thead>\n",
       "  <tbody>\n",
       "    <tr>\n",
       "      <th>0</th>\n",
       "      <td>0.0000</td>\n",
       "      <td>0.032880</td>\n",
       "      <td>0.032880</td>\n",
       "      <td>0.000000</td>\n",
       "      <td>0.000000</td>\n",
       "      <td>0.032880</td>\n",
       "      <td>0.000000</td>\n",
       "      <td>0.000000</td>\n",
       "      <td>0.000000</td>\n",
       "      <td>0.032880</td>\n",
       "      <td>0.0</td>\n",
       "      <td>0.0</td>\n",
       "      <td>0.0</td>\n",
       "      <td>0.032880</td>\n",
       "      <td>0.000000</td>\n",
       "      <td>0.0</td>\n",
       "      <td>0.032880</td>\n",
       "      <td>0.000000</td>\n",
       "      <td>0.0</td>\n",
       "      <td>0.000000</td>\n",
       "      <td>0.0</td>\n",
       "      <td>0.032880</td>\n",
       "      <td>0.000000</td>\n",
       "      <td>0.032880</td>\n",
       "      <td>0.032880</td>\n",
       "      <td>0.000000</td>\n",
       "      <td>0.526077</td>\n",
       "      <td>0.098639</td>\n",
       "      <td>0.131519</td>\n",
       "      <td>0.032880</td>\n",
       "      <td>0.032880</td>\n",
       "      <td>0.000000</td>\n",
       "      <td>0.032880</td>\n",
       "      <td>0.032880</td>\n",
       "      <td>0.131519</td>\n",
       "      <td>0.164399</td>\n",
       "      <td>0.493197</td>\n",
       "      <td>0.427437</td>\n",
       "      <td>0.460317</td>\n",
       "    </tr>\n",
       "    <tr>\n",
       "      <th>1</th>\n",
       "      <td>0.0000</td>\n",
       "      <td>0.028250</td>\n",
       "      <td>0.028250</td>\n",
       "      <td>0.000000</td>\n",
       "      <td>0.000000</td>\n",
       "      <td>0.028250</td>\n",
       "      <td>0.000000</td>\n",
       "      <td>0.000000</td>\n",
       "      <td>0.028250</td>\n",
       "      <td>0.000000</td>\n",
       "      <td>0.0</td>\n",
       "      <td>0.0</td>\n",
       "      <td>0.0</td>\n",
       "      <td>0.028250</td>\n",
       "      <td>0.000000</td>\n",
       "      <td>0.0</td>\n",
       "      <td>0.028250</td>\n",
       "      <td>0.000000</td>\n",
       "      <td>0.0</td>\n",
       "      <td>0.000000</td>\n",
       "      <td>0.0</td>\n",
       "      <td>0.028250</td>\n",
       "      <td>0.000000</td>\n",
       "      <td>0.028250</td>\n",
       "      <td>0.028250</td>\n",
       "      <td>0.000000</td>\n",
       "      <td>0.480257</td>\n",
       "      <td>0.084751</td>\n",
       "      <td>0.056501</td>\n",
       "      <td>0.028250</td>\n",
       "      <td>0.056501</td>\n",
       "      <td>0.000000</td>\n",
       "      <td>0.113002</td>\n",
       "      <td>0.028250</td>\n",
       "      <td>0.084751</td>\n",
       "      <td>0.084751</td>\n",
       "      <td>0.480257</td>\n",
       "      <td>0.508507</td>\n",
       "      <td>0.480257</td>\n",
       "    </tr>\n",
       "    <tr>\n",
       "      <th>2</th>\n",
       "      <td>0.0000</td>\n",
       "      <td>0.040555</td>\n",
       "      <td>0.040555</td>\n",
       "      <td>0.000000</td>\n",
       "      <td>0.000000</td>\n",
       "      <td>0.040555</td>\n",
       "      <td>0.000000</td>\n",
       "      <td>0.040555</td>\n",
       "      <td>0.000000</td>\n",
       "      <td>0.000000</td>\n",
       "      <td>0.0</td>\n",
       "      <td>0.0</td>\n",
       "      <td>0.0</td>\n",
       "      <td>0.000000</td>\n",
       "      <td>0.040555</td>\n",
       "      <td>0.0</td>\n",
       "      <td>0.040555</td>\n",
       "      <td>0.000000</td>\n",
       "      <td>0.0</td>\n",
       "      <td>0.000000</td>\n",
       "      <td>0.0</td>\n",
       "      <td>0.040555</td>\n",
       "      <td>0.000000</td>\n",
       "      <td>0.040555</td>\n",
       "      <td>0.040555</td>\n",
       "      <td>0.000000</td>\n",
       "      <td>0.648886</td>\n",
       "      <td>0.040555</td>\n",
       "      <td>0.081111</td>\n",
       "      <td>0.081111</td>\n",
       "      <td>0.040555</td>\n",
       "      <td>0.081111</td>\n",
       "      <td>0.202777</td>\n",
       "      <td>0.121666</td>\n",
       "      <td>0.202777</td>\n",
       "      <td>0.202777</td>\n",
       "      <td>0.364998</td>\n",
       "      <td>0.324443</td>\n",
       "      <td>0.405554</td>\n",
       "    </tr>\n",
       "    <tr>\n",
       "      <th>3</th>\n",
       "      <td>0.0000</td>\n",
       "      <td>0.031373</td>\n",
       "      <td>0.000000</td>\n",
       "      <td>0.031373</td>\n",
       "      <td>0.000000</td>\n",
       "      <td>0.031373</td>\n",
       "      <td>0.000000</td>\n",
       "      <td>0.000000</td>\n",
       "      <td>0.031373</td>\n",
       "      <td>0.000000</td>\n",
       "      <td>0.0</td>\n",
       "      <td>0.0</td>\n",
       "      <td>0.0</td>\n",
       "      <td>0.000000</td>\n",
       "      <td>0.031373</td>\n",
       "      <td>0.0</td>\n",
       "      <td>0.000000</td>\n",
       "      <td>0.031373</td>\n",
       "      <td>0.0</td>\n",
       "      <td>0.000000</td>\n",
       "      <td>0.0</td>\n",
       "      <td>0.031373</td>\n",
       "      <td>0.000000</td>\n",
       "      <td>0.031373</td>\n",
       "      <td>0.031373</td>\n",
       "      <td>0.000000</td>\n",
       "      <td>0.533337</td>\n",
       "      <td>0.062746</td>\n",
       "      <td>0.094118</td>\n",
       "      <td>0.062746</td>\n",
       "      <td>0.062746</td>\n",
       "      <td>0.000000</td>\n",
       "      <td>0.094118</td>\n",
       "      <td>0.031373</td>\n",
       "      <td>0.031373</td>\n",
       "      <td>0.094118</td>\n",
       "      <td>0.439219</td>\n",
       "      <td>0.470592</td>\n",
       "      <td>0.501965</td>\n",
       "    </tr>\n",
       "    <tr>\n",
       "      <th>4</th>\n",
       "      <td>0.0000</td>\n",
       "      <td>0.035202</td>\n",
       "      <td>0.035202</td>\n",
       "      <td>0.000000</td>\n",
       "      <td>0.000000</td>\n",
       "      <td>0.035202</td>\n",
       "      <td>0.000000</td>\n",
       "      <td>0.000000</td>\n",
       "      <td>0.000000</td>\n",
       "      <td>0.035202</td>\n",
       "      <td>0.0</td>\n",
       "      <td>0.0</td>\n",
       "      <td>0.0</td>\n",
       "      <td>0.000000</td>\n",
       "      <td>0.035202</td>\n",
       "      <td>0.0</td>\n",
       "      <td>0.035202</td>\n",
       "      <td>0.000000</td>\n",
       "      <td>0.0</td>\n",
       "      <td>0.000000</td>\n",
       "      <td>0.0</td>\n",
       "      <td>0.035202</td>\n",
       "      <td>0.000000</td>\n",
       "      <td>0.035202</td>\n",
       "      <td>0.000000</td>\n",
       "      <td>0.035202</td>\n",
       "      <td>0.633630</td>\n",
       "      <td>0.105605</td>\n",
       "      <td>0.035202</td>\n",
       "      <td>0.070403</td>\n",
       "      <td>0.035202</td>\n",
       "      <td>0.000000</td>\n",
       "      <td>0.140807</td>\n",
       "      <td>0.140807</td>\n",
       "      <td>0.176008</td>\n",
       "      <td>0.140807</td>\n",
       "      <td>0.387218</td>\n",
       "      <td>0.387218</td>\n",
       "      <td>0.422420</td>\n",
       "    </tr>\n",
       "    <tr>\n",
       "      <th>...</th>\n",
       "      <td>...</td>\n",
       "      <td>...</td>\n",
       "      <td>...</td>\n",
       "      <td>...</td>\n",
       "      <td>...</td>\n",
       "      <td>...</td>\n",
       "      <td>...</td>\n",
       "      <td>...</td>\n",
       "      <td>...</td>\n",
       "      <td>...</td>\n",
       "      <td>...</td>\n",
       "      <td>...</td>\n",
       "      <td>...</td>\n",
       "      <td>...</td>\n",
       "      <td>...</td>\n",
       "      <td>...</td>\n",
       "      <td>...</td>\n",
       "      <td>...</td>\n",
       "      <td>...</td>\n",
       "      <td>...</td>\n",
       "      <td>...</td>\n",
       "      <td>...</td>\n",
       "      <td>...</td>\n",
       "      <td>...</td>\n",
       "      <td>...</td>\n",
       "      <td>...</td>\n",
       "      <td>...</td>\n",
       "      <td>...</td>\n",
       "      <td>...</td>\n",
       "      <td>...</td>\n",
       "      <td>...</td>\n",
       "      <td>...</td>\n",
       "      <td>...</td>\n",
       "      <td>...</td>\n",
       "      <td>...</td>\n",
       "      <td>...</td>\n",
       "      <td>...</td>\n",
       "      <td>...</td>\n",
       "      <td>...</td>\n",
       "    </tr>\n",
       "    <tr>\n",
       "      <th>999</th>\n",
       "      <td>0.0000</td>\n",
       "      <td>0.036936</td>\n",
       "      <td>0.000000</td>\n",
       "      <td>0.036936</td>\n",
       "      <td>0.036936</td>\n",
       "      <td>0.000000</td>\n",
       "      <td>0.000000</td>\n",
       "      <td>0.000000</td>\n",
       "      <td>0.000000</td>\n",
       "      <td>0.036936</td>\n",
       "      <td>0.0</td>\n",
       "      <td>0.0</td>\n",
       "      <td>0.0</td>\n",
       "      <td>0.036936</td>\n",
       "      <td>0.000000</td>\n",
       "      <td>0.0</td>\n",
       "      <td>0.000000</td>\n",
       "      <td>0.000000</td>\n",
       "      <td>0.0</td>\n",
       "      <td>0.036936</td>\n",
       "      <td>0.0</td>\n",
       "      <td>0.036936</td>\n",
       "      <td>0.000000</td>\n",
       "      <td>0.036936</td>\n",
       "      <td>0.000000</td>\n",
       "      <td>0.036936</td>\n",
       "      <td>0.554038</td>\n",
       "      <td>0.110808</td>\n",
       "      <td>0.110808</td>\n",
       "      <td>0.036936</td>\n",
       "      <td>0.073872</td>\n",
       "      <td>0.000000</td>\n",
       "      <td>0.147743</td>\n",
       "      <td>0.036936</td>\n",
       "      <td>0.036936</td>\n",
       "      <td>0.036936</td>\n",
       "      <td>0.480166</td>\n",
       "      <td>0.443230</td>\n",
       "      <td>0.443230</td>\n",
       "    </tr>\n",
       "    <tr>\n",
       "      <th>1000</th>\n",
       "      <td>0.0000</td>\n",
       "      <td>0.035646</td>\n",
       "      <td>0.035646</td>\n",
       "      <td>0.000000</td>\n",
       "      <td>0.000000</td>\n",
       "      <td>0.035646</td>\n",
       "      <td>0.000000</td>\n",
       "      <td>0.000000</td>\n",
       "      <td>0.035646</td>\n",
       "      <td>0.000000</td>\n",
       "      <td>0.0</td>\n",
       "      <td>0.0</td>\n",
       "      <td>0.0</td>\n",
       "      <td>0.035646</td>\n",
       "      <td>0.000000</td>\n",
       "      <td>0.0</td>\n",
       "      <td>0.000000</td>\n",
       "      <td>0.035646</td>\n",
       "      <td>0.0</td>\n",
       "      <td>0.000000</td>\n",
       "      <td>0.0</td>\n",
       "      <td>0.035646</td>\n",
       "      <td>0.000000</td>\n",
       "      <td>0.035646</td>\n",
       "      <td>0.035646</td>\n",
       "      <td>0.000000</td>\n",
       "      <td>0.570338</td>\n",
       "      <td>0.071292</td>\n",
       "      <td>0.071292</td>\n",
       "      <td>0.035646</td>\n",
       "      <td>0.071292</td>\n",
       "      <td>0.000000</td>\n",
       "      <td>0.142585</td>\n",
       "      <td>0.035646</td>\n",
       "      <td>0.035646</td>\n",
       "      <td>0.106938</td>\n",
       "      <td>0.463400</td>\n",
       "      <td>0.427754</td>\n",
       "      <td>0.463400</td>\n",
       "    </tr>\n",
       "    <tr>\n",
       "      <th>1001</th>\n",
       "      <td>0.0411</td>\n",
       "      <td>0.000000</td>\n",
       "      <td>0.041100</td>\n",
       "      <td>0.000000</td>\n",
       "      <td>0.041100</td>\n",
       "      <td>0.000000</td>\n",
       "      <td>0.000000</td>\n",
       "      <td>0.000000</td>\n",
       "      <td>0.000000</td>\n",
       "      <td>0.041100</td>\n",
       "      <td>0.0</td>\n",
       "      <td>0.0</td>\n",
       "      <td>0.0</td>\n",
       "      <td>0.000000</td>\n",
       "      <td>0.041100</td>\n",
       "      <td>0.0</td>\n",
       "      <td>0.000000</td>\n",
       "      <td>0.000000</td>\n",
       "      <td>0.0</td>\n",
       "      <td>0.041100</td>\n",
       "      <td>0.0</td>\n",
       "      <td>0.041100</td>\n",
       "      <td>0.000000</td>\n",
       "      <td>0.041100</td>\n",
       "      <td>0.000000</td>\n",
       "      <td>0.041100</td>\n",
       "      <td>0.616496</td>\n",
       "      <td>0.123299</td>\n",
       "      <td>0.123299</td>\n",
       "      <td>0.082199</td>\n",
       "      <td>0.123299</td>\n",
       "      <td>0.082199</td>\n",
       "      <td>0.041100</td>\n",
       "      <td>0.082199</td>\n",
       "      <td>0.123299</td>\n",
       "      <td>0.123299</td>\n",
       "      <td>0.410997</td>\n",
       "      <td>0.410997</td>\n",
       "      <td>0.410997</td>\n",
       "    </tr>\n",
       "    <tr>\n",
       "      <th>1002</th>\n",
       "      <td>0.0000</td>\n",
       "      <td>0.042409</td>\n",
       "      <td>0.042409</td>\n",
       "      <td>0.000000</td>\n",
       "      <td>0.042409</td>\n",
       "      <td>0.000000</td>\n",
       "      <td>0.000000</td>\n",
       "      <td>0.042409</td>\n",
       "      <td>0.000000</td>\n",
       "      <td>0.000000</td>\n",
       "      <td>0.0</td>\n",
       "      <td>0.0</td>\n",
       "      <td>0.0</td>\n",
       "      <td>0.000000</td>\n",
       "      <td>0.042409</td>\n",
       "      <td>0.0</td>\n",
       "      <td>0.000000</td>\n",
       "      <td>0.000000</td>\n",
       "      <td>0.0</td>\n",
       "      <td>0.042409</td>\n",
       "      <td>0.0</td>\n",
       "      <td>0.042409</td>\n",
       "      <td>0.000000</td>\n",
       "      <td>0.042409</td>\n",
       "      <td>0.000000</td>\n",
       "      <td>0.042409</td>\n",
       "      <td>0.636142</td>\n",
       "      <td>0.084819</td>\n",
       "      <td>0.042409</td>\n",
       "      <td>0.042409</td>\n",
       "      <td>0.084819</td>\n",
       "      <td>0.000000</td>\n",
       "      <td>0.084819</td>\n",
       "      <td>0.042409</td>\n",
       "      <td>0.042409</td>\n",
       "      <td>0.212047</td>\n",
       "      <td>0.424094</td>\n",
       "      <td>0.381685</td>\n",
       "      <td>0.424094</td>\n",
       "    </tr>\n",
       "    <tr>\n",
       "      <th>1003</th>\n",
       "      <td>0.0000</td>\n",
       "      <td>0.041631</td>\n",
       "      <td>0.041631</td>\n",
       "      <td>0.000000</td>\n",
       "      <td>0.000000</td>\n",
       "      <td>0.041631</td>\n",
       "      <td>0.041631</td>\n",
       "      <td>0.000000</td>\n",
       "      <td>0.000000</td>\n",
       "      <td>0.000000</td>\n",
       "      <td>0.0</td>\n",
       "      <td>0.0</td>\n",
       "      <td>0.0</td>\n",
       "      <td>0.041631</td>\n",
       "      <td>0.000000</td>\n",
       "      <td>0.0</td>\n",
       "      <td>0.041631</td>\n",
       "      <td>0.000000</td>\n",
       "      <td>0.0</td>\n",
       "      <td>0.000000</td>\n",
       "      <td>0.0</td>\n",
       "      <td>0.041631</td>\n",
       "      <td>0.041631</td>\n",
       "      <td>0.000000</td>\n",
       "      <td>0.041631</td>\n",
       "      <td>0.000000</td>\n",
       "      <td>0.666089</td>\n",
       "      <td>0.083261</td>\n",
       "      <td>0.041631</td>\n",
       "      <td>0.166522</td>\n",
       "      <td>0.041631</td>\n",
       "      <td>0.000000</td>\n",
       "      <td>0.041631</td>\n",
       "      <td>0.041631</td>\n",
       "      <td>0.041631</td>\n",
       "      <td>0.083261</td>\n",
       "      <td>0.374675</td>\n",
       "      <td>0.374675</td>\n",
       "      <td>0.457936</td>\n",
       "    </tr>\n",
       "  </tbody>\n",
       "</table>\n",
       "<p>1004 rows × 39 columns</p>\n",
       "</div>"
      ],
      "text/plain": [
       "      Subject_Math  Subject_Por  school_GP  school_MS  address_R  address_U  \\\n",
       "0           0.0000     0.032880   0.032880   0.000000   0.000000   0.032880   \n",
       "1           0.0000     0.028250   0.028250   0.000000   0.000000   0.028250   \n",
       "2           0.0000     0.040555   0.040555   0.000000   0.000000   0.040555   \n",
       "3           0.0000     0.031373   0.000000   0.031373   0.000000   0.031373   \n",
       "4           0.0000     0.035202   0.035202   0.000000   0.000000   0.035202   \n",
       "...            ...          ...        ...        ...        ...        ...   \n",
       "999         0.0000     0.036936   0.000000   0.036936   0.036936   0.000000   \n",
       "1000        0.0000     0.035646   0.035646   0.000000   0.000000   0.035646   \n",
       "1001        0.0411     0.000000   0.041100   0.000000   0.041100   0.000000   \n",
       "1002        0.0000     0.042409   0.042409   0.000000   0.042409   0.000000   \n",
       "1003        0.0000     0.041631   0.041631   0.000000   0.000000   0.041631   \n",
       "\n",
       "      Mjob_at_home  Mjob_health  Mjob_other  Mjob_services  Mjob_teacher  \\\n",
       "0         0.000000     0.000000    0.000000       0.032880           0.0   \n",
       "1         0.000000     0.000000    0.028250       0.000000           0.0   \n",
       "2         0.000000     0.040555    0.000000       0.000000           0.0   \n",
       "3         0.000000     0.000000    0.031373       0.000000           0.0   \n",
       "4         0.000000     0.000000    0.000000       0.035202           0.0   \n",
       "...            ...          ...         ...            ...           ...   \n",
       "999       0.000000     0.000000    0.000000       0.036936           0.0   \n",
       "1000      0.000000     0.000000    0.035646       0.000000           0.0   \n",
       "1001      0.000000     0.000000    0.000000       0.041100           0.0   \n",
       "1002      0.000000     0.042409    0.000000       0.000000           0.0   \n",
       "1003      0.041631     0.000000    0.000000       0.000000           0.0   \n",
       "\n",
       "      Fjob_at_home  Fjob_health  Fjob_other  Fjob_services  Fjob_teacher  \\\n",
       "0              0.0          0.0    0.032880       0.000000           0.0   \n",
       "1              0.0          0.0    0.028250       0.000000           0.0   \n",
       "2              0.0          0.0    0.000000       0.040555           0.0   \n",
       "3              0.0          0.0    0.000000       0.031373           0.0   \n",
       "4              0.0          0.0    0.000000       0.035202           0.0   \n",
       "...            ...          ...         ...            ...           ...   \n",
       "999            0.0          0.0    0.036936       0.000000           0.0   \n",
       "1000           0.0          0.0    0.035646       0.000000           0.0   \n",
       "1001           0.0          0.0    0.000000       0.041100           0.0   \n",
       "1002           0.0          0.0    0.000000       0.042409           0.0   \n",
       "1003           0.0          0.0    0.041631       0.000000           0.0   \n",
       "\n",
       "      reason_course  reason_home  reason_other  reason_reputation  higher_no  \\\n",
       "0          0.032880     0.000000           0.0           0.000000        0.0   \n",
       "1          0.028250     0.000000           0.0           0.000000        0.0   \n",
       "2          0.040555     0.000000           0.0           0.000000        0.0   \n",
       "3          0.000000     0.031373           0.0           0.000000        0.0   \n",
       "4          0.035202     0.000000           0.0           0.000000        0.0   \n",
       "...             ...          ...           ...                ...        ...   \n",
       "999        0.000000     0.000000           0.0           0.036936        0.0   \n",
       "1000       0.000000     0.035646           0.0           0.000000        0.0   \n",
       "1001       0.000000     0.000000           0.0           0.041100        0.0   \n",
       "1002       0.000000     0.000000           0.0           0.042409        0.0   \n",
       "1003       0.041631     0.000000           0.0           0.000000        0.0   \n",
       "\n",
       "      higher_yes  internet_no  internet_yes  romantic_no  romantic_yes  \\\n",
       "0       0.032880     0.000000      0.032880     0.032880      0.000000   \n",
       "1       0.028250     0.000000      0.028250     0.028250      0.000000   \n",
       "2       0.040555     0.000000      0.040555     0.040555      0.000000   \n",
       "3       0.031373     0.000000      0.031373     0.031373      0.000000   \n",
       "4       0.035202     0.000000      0.035202     0.000000      0.035202   \n",
       "...          ...          ...           ...          ...           ...   \n",
       "999     0.036936     0.000000      0.036936     0.000000      0.036936   \n",
       "1000    0.035646     0.000000      0.035646     0.035646      0.000000   \n",
       "1001    0.041100     0.000000      0.041100     0.000000      0.041100   \n",
       "1002    0.042409     0.000000      0.042409     0.000000      0.042409   \n",
       "1003    0.041631     0.041631      0.000000     0.041631      0.000000   \n",
       "\n",
       "           age      Medu      Fedu  traveltime  studytime  failures     goout  \\\n",
       "0     0.526077  0.098639  0.131519    0.032880   0.032880  0.000000  0.032880   \n",
       "1     0.480257  0.084751  0.056501    0.028250   0.056501  0.000000  0.113002   \n",
       "2     0.648886  0.040555  0.081111    0.081111   0.040555  0.081111  0.202777   \n",
       "3     0.533337  0.062746  0.094118    0.062746   0.062746  0.000000  0.094118   \n",
       "4     0.633630  0.105605  0.035202    0.070403   0.035202  0.000000  0.140807   \n",
       "...        ...       ...       ...         ...        ...       ...       ...   \n",
       "999   0.554038  0.110808  0.110808    0.036936   0.073872  0.000000  0.147743   \n",
       "1000  0.570338  0.071292  0.071292    0.035646   0.071292  0.000000  0.142585   \n",
       "1001  0.616496  0.123299  0.123299    0.082199   0.123299  0.082199  0.041100   \n",
       "1002  0.636142  0.084819  0.042409    0.042409   0.084819  0.000000  0.084819   \n",
       "1003  0.666089  0.083261  0.041631    0.166522   0.041631  0.000000  0.041631   \n",
       "\n",
       "          Dalc      Walc    health        G1        G2        G3  \n",
       "0     0.032880  0.131519  0.164399  0.493197  0.427437  0.460317  \n",
       "1     0.028250  0.084751  0.084751  0.480257  0.508507  0.480257  \n",
       "2     0.121666  0.202777  0.202777  0.364998  0.324443  0.405554  \n",
       "3     0.031373  0.031373  0.094118  0.439219  0.470592  0.501965  \n",
       "4     0.140807  0.176008  0.140807  0.387218  0.387218  0.422420  \n",
       "...        ...       ...       ...       ...       ...       ...  \n",
       "999   0.036936  0.036936  0.036936  0.480166  0.443230  0.443230  \n",
       "1000  0.035646  0.035646  0.106938  0.463400  0.427754  0.463400  \n",
       "1001  0.082199  0.123299  0.123299  0.410997  0.410997  0.410997  \n",
       "1002  0.042409  0.042409  0.212047  0.424094  0.381685  0.424094  \n",
       "1003  0.041631  0.041631  0.083261  0.374675  0.374675  0.457936  \n",
       "\n",
       "[1004 rows x 39 columns]"
      ]
     },
     "execution_count": 89,
     "metadata": {},
     "output_type": "execute_result"
    }
   ],
   "source": [
    "categoricalColumns = [\"Subject\", \"school\", \"address\",\n",
    "                          \"Mjob\", \"Fjob\", \"reason\",\n",
    "                          \"higher\", \"internet\", \"romantic\"]\n",
    "data = pd.get_dummies(data = data[categoricalColumns], prefix=categoricalColumns, columns = categoricalColumns).join(data)\n",
    "data = data.drop(columns=categoricalColumns)\n",
    "columns = data.columns\n",
    "target = data[\"G3\"]\n",
    "data = pd.DataFrame(normalize(data), columns=columns)\n",
    "data\n"
   ]
  },
  {
   "cell_type": "markdown",
   "metadata": {
    "id": "MksAApf4tPS4"
   },
   "source": [
    "Разделение данных:"
   ]
  },
  {
   "cell_type": "code",
   "execution_count": 90,
   "metadata": {
    "colab": {
     "base_uri": "https://localhost:8080/",
     "height": 562
    },
    "id": "Plzzq29TsjNh",
    "outputId": "918ae1c2-d796-445f-e732-7ed248291a31"
   },
   "outputs": [
    {
     "data": {
      "image/png": "[encoded data removed]",
      "text/plain": [
       "<Figure size 750x600 with 1 Axes>"
      ]
     },
     "metadata": {
      "needs_background": "light"
     },
     "output_type": "display_data"
    }
   ],
   "source": [
    "from sklearn.model_selection import train_test_split\n",
    "plt.figure(figsize=(5, 4), dpi=150)\n",
    "X_train, X_test, y_train, y_test = train_test_split(data.drop(columns=[\"G3\"]), target, test_size=0.2)\n",
    "sns.boxplot(y_test)\n",
    "plt.show()"
   ]
  },
  {
   "cell_type": "code",
   "execution_count": 91,
   "metadata": {
    "colab": {
     "base_uri": "https://localhost:8080/",
     "height": 562
    },
    "id": "cD5vJpztxfUl",
    "outputId": "4fd62f37-d1b1-4f5f-9ac3-060cd3ff9499"
   },
   "outputs": [
    {
     "data": {
      "image/png": "[encoded data removed]",
      "text/plain": [
       "<Figure size 750x600 with 1 Axes>"
      ]
     },
     "metadata": {
      "needs_background": "light"
     },
     "output_type": "display_data"
    }
   ],
   "source": [
    "plt.figure(figsize=(5, 4), dpi=150)\n",
    "sns.boxplot(y_train)\n",
    "plt.show()"
   ]
  },
  {
   "cell_type": "markdown",
   "metadata": {
    "id": "mltZF0qDxoTU"
   },
   "source": [
    "Как мы видим из этих графиков распределение целевой переменной в нашем разбиение примерно одинаковое."
   ]
  },
  {
   "cell_type": "markdown",
   "metadata": {
    "id": "ZNiqy84-NCCJ"
   },
   "source": [
    "## Часть 2. Регрессия"
   ]
  },
  {
   "cell_type": "markdown",
   "metadata": {
    "id": "Wf8bbr2lNCCK"
   },
   "source": [
    "* Решите задачу регрессии: постройте модель, предсказывающую итоговую оценку, которую получит студент по предмету (`G3`). При решении задачи **нельзя** использовать признак `G2`.  \n",
    "<br>  \n",
    "* Для решения задачи примените следующие методы:  \n",
    "  * Линейная регрессия + регуляризации  \n",
    "  * Полиномиальная регрессия  \n",
    "  * KNN  \n",
    "  * Деревья решений, Random Forest  \n",
    "  \n",
    "  Для каждого метода выполните настройку гиперпараметров на кросс-валидации.  \n",
    "<br>    \n",
    "* Оцените качество каждой модели на отложенной выборке, используйте различные метрики. Сравните модели и сделайте вывод о качестве решения задачи.  \n",
    "<br>    \n",
    "* Задачу необходимо решить в двух вариантах: с использованием признака `G1`  и без него. Сравните качество решений в двух случаях.  \n",
    "<br>    \n",
    "* В регрессионных моделях попробуйте дать интерпретацию весам признаков. "
   ]
  },
  {
   "cell_type": "markdown",
   "metadata": {
    "id": "y3P9BirTIl0l"
   },
   "source": [
    "#### Линейная регрессия + регуляризации"
   ]
  },
  {
   "cell_type": "code",
   "execution_count": 92,
   "metadata": {
    "id": "Kdd_Iq2aNCCK"
   },
   "outputs": [],
   "source": [
    "from sklearn.linear_model import LinearRegression\n",
    "from sklearn.metrics import mean_squared_error, mean_absolute_error, r2_score, mean_absolute_percentage_error"
   ]
  },
  {
   "cell_type": "code",
   "execution_count": 93,
   "metadata": {
    "id": "YBIoQQYhxY91"
   },
   "outputs": [],
   "source": [
    "data_train = X_train.drop(columns=[\"G2\"])\n",
    "linreg = LinearRegression()\n",
    "linreg.fit(data_train, y_train)\n",
    "y_pred = linreg.predict(X_test.drop(columns=[\"G2\"]))"
   ]
  },
  {
   "cell_type": "code",
   "execution_count": 94,
   "metadata": {
    "colab": {
     "base_uri": "https://localhost:8080/"
    },
    "id": "aOGInk035AYA",
    "outputId": "2f4f4241-455f-4983-b313-ed75c36ae30f"
   },
   "outputs": [
    {
     "name": "stdout",
     "output_type": "stream",
     "text": [
      "Test Linear:\n",
      "MSE: 0.9781725379360724\n",
      "MAE: 0.6654310027363358\n",
      "R2: 0.926806903292732\n"
     ]
    }
   ],
   "source": [
    "print(\"Test Linear:\")\n",
    "print('MSE:', mean_squared_error(y_test, y_pred))\n",
    "print('MAE:', mean_absolute_error(y_test, y_pred))\n",
    "print('R2:', r2_score(y_test, y_pred))"
   ]
  },
  {
   "cell_type": "code",
   "execution_count": 95,
   "metadata": {
    "colab": {
     "base_uri": "https://localhost:8080/"
    },
    "id": "qqLfUlSoCJk5",
    "outputId": "53436fd1-c2a9-4c48-c0b9-9d5c687086d9"
   },
   "outputs": [
    {
     "data": {
      "text/plain": [
       "Subject_Math        -49.331919\n",
       "romantic_yes        -48.075909\n",
       "higher_no           -47.653857\n",
       "school_GP           -47.012385\n",
       "internet_yes        -46.499284\n",
       "address_U           -46.360731\n",
       "address_R           -46.136075\n",
       "internet_no         -45.997522\n",
       "school_MS           -45.484421\n",
       "higher_yes          -44.842950\n",
       "romantic_no         -44.420898\n",
       "Subject_Por         -43.164888\n",
       "age                 -28.196225\n",
       "reason_other        -26.559206\n",
       "Fjob_teacher        -25.340597\n",
       "reason_home         -23.301107\n",
       "reason_reputation   -22.137480\n",
       "reason_course       -20.499014\n",
       "Mjob_other          -20.280250\n",
       "Mjob_health         -20.154253\n",
       "Fjob_services       -19.624854\n",
       "Mjob_at_home        -18.911126\n",
       "G1                  -18.862412\n",
       "Mjob_services       -17.222368\n",
       "Fjob_health         -16.365491\n",
       "Mjob_teacher        -15.928810\n",
       "Fjob_other          -15.771871\n",
       "Fjob_at_home        -15.393993\n",
       "Dalc                 -5.915890\n",
       "goout                -5.168651\n",
       "health               -5.110926\n",
       "failures             -4.708951\n",
       "Medu                 -4.581509\n",
       "studytime            -4.282385\n",
       "Fedu                 -3.674126\n",
       "traveltime           -2.277570\n",
       "Walc                 -2.256439\n",
       "dtype: float64"
      ]
     },
     "execution_count": 95,
     "metadata": {},
     "output_type": "execute_result"
    }
   ],
   "source": [
    "coefs = pd.Series(linreg.coef_, index=data_train.columns)\n",
    "z = abs(coefs).sort_values(ascending=False)\n",
    "coefs[z.index]"
   ]
  },
  {
   "cell_type": "markdown",
   "metadata": {
    "id": "opmN6dPNEqxP"
   },
   "source": [
    "Я не вижу никакой зависимости в таком распределении коэффицентов."
   ]
  },
  {
   "cell_type": "code",
   "execution_count": 96,
   "metadata": {
    "id": "ITMt_dxKFKFm"
   },
   "outputs": [],
   "source": [
    "linreg = LinearRegression()\n",
    "linreg.fit(data_train.drop(columns=[\"G1\"]), y_train)\n",
    "y_pred = linreg.predict(X_test.drop(columns=[\"G2\", \"G1\"]))"
   ]
  },
  {
   "cell_type": "code",
   "execution_count": 97,
   "metadata": {
    "colab": {
     "base_uri": "https://localhost:8080/"
    },
    "id": "Ggcb-Ho9FKAR",
    "outputId": "4ac97220-789e-4750-ccae-ac7ef4c52c62"
   },
   "outputs": [
    {
     "name": "stdout",
     "output_type": "stream",
     "text": [
      "Test Linear without G1:\n",
      "MSE: 1.6437034386665192\n",
      "MAE: 0.8360263033844109\n",
      "R2: 0.8770076442769136\n"
     ]
    }
   ],
   "source": [
    "print(\"Test Linear without G1:\")\n",
    "print('MSE:', mean_squared_error(y_test, y_pred))\n",
    "print('MAE:', mean_absolute_error(y_test, y_pred))\n",
    "print('R2:', r2_score(y_test, y_pred))"
   ]
  },
  {
   "cell_type": "markdown",
   "metadata": {
    "id": "lshdoTTgGNBe"
   },
   "source": [
    "Без G1 точность линейной модели упала."
   ]
  },
  {
   "cell_type": "code",
   "execution_count": 98,
   "metadata": {
    "id": "uZ9fZ0JMGSt4"
   },
   "outputs": [],
   "source": [
    "from sklearn.linear_model import RidgeCV"
   ]
  },
  {
   "cell_type": "code",
   "execution_count": 99,
   "metadata": {
    "id": "Om8yeGfhFxkk"
   },
   "outputs": [],
   "source": [
    "ridgeModel = RidgeCV(alphas=np.arange(0, 30, 0.1), \n",
    "                                  cv=5, \n",
    "                                  scoring='neg_root_mean_squared_error')\n",
    "ridgeModel.fit(data_train, y_train)\n",
    "y_pred = ridgeModel.predict(X_test.drop(columns=[\"G2\"]))"
   ]
  },
  {
   "cell_type": "code",
   "execution_count": 100,
   "metadata": {
    "colab": {
     "base_uri": "https://localhost:8080/"
    },
    "id": "qNhIIlL-G0Uo",
    "outputId": "5a304486-797b-4d83-d43f-a234ba7b5d5a"
   },
   "outputs": [
    {
     "name": "stdout",
     "output_type": "stream",
     "text": [
      "Test Ridge:\n",
      "MSE: 0.9781725379360742\n",
      "MAE: 0.6654310027363355\n",
      "R2: 0.9268069032927317\n"
     ]
    }
   ],
   "source": [
    "print(\"Test Ridge:\")\n",
    "print('MSE:', mean_squared_error(y_test, y_pred))\n",
    "print('MAE:', mean_absolute_error(y_test, y_pred))\n",
    "print('R2:', r2_score(y_test, y_pred))"
   ]
  },
  {
   "cell_type": "markdown",
   "metadata": {
    "id": "6CmC2o7vHhAv"
   },
   "source": [
    "Ridge показало примерно такие же результаты, чем обычная линейная регрессия."
   ]
  },
  {
   "cell_type": "code",
   "execution_count": 101,
   "metadata": {
    "id": "-BjceYrLHpFn"
   },
   "outputs": [],
   "source": [
    "from sklearn.linear_model import LassoCV"
   ]
  },
  {
   "cell_type": "code",
   "execution_count": 102,
   "metadata": {
    "id": "oUGXlw94Ht0w"
   },
   "outputs": [],
   "source": [
    "lassoModel = LassoCV(alphas=np.arange(0.1, 100, 0.1), \n",
    "                                  normalize=True,\n",
    "                                  cv=5)\n",
    "lassoModel.fit(data_train, y_train)\n",
    "y_pred = lassoModel.predict(X_test.drop(columns=[\"G2\"]))"
   ]
  },
  {
   "cell_type": "code",
   "execution_count": 103,
   "metadata": {
    "colab": {
     "base_uri": "https://localhost:8080/"
    },
    "id": "iqwfEKibIDuw",
    "outputId": "ced0184c-09dc-44bc-8a5c-91bc55887ec8"
   },
   "outputs": [
    {
     "name": "stdout",
     "output_type": "stream",
     "text": [
      "Test Lasso:\n",
      "MSE: 9.485726081989563\n",
      "MAE: 2.1784433015875786\n",
      "R2: 0.2902175848008809\n"
     ]
    }
   ],
   "source": [
    "print(\"Test Lasso:\")\n",
    "print('MSE:', mean_squared_error(y_test, y_pred))\n",
    "print('MAE:', mean_absolute_error(y_test, y_pred))\n",
    "print('R2:', r2_score(y_test, y_pred))"
   ]
  },
  {
   "cell_type": "markdown",
   "metadata": {
    "id": "ot9bBc1VIUsT"
   },
   "source": [
    "А Lasso показало не лучшие результаты и не справилось с задачей"
   ]
  },
  {
   "cell_type": "markdown",
   "metadata": {
    "id": "biGI5CzvIs_a"
   },
   "source": [
    "#### Полиномиальная регрессия"
   ]
  },
  {
   "cell_type": "code",
   "execution_count": 104,
   "metadata": {
    "id": "iznnUaC-8b2J"
   },
   "outputs": [],
   "source": [
    "from sklearn.preprocessing import PolynomialFeatures\n",
    "from sklearn.model_selection import GridSearchCV"
   ]
  },
  {
   "cell_type": "code",
   "execution_count": 105,
   "metadata": {
    "id": "hSDR8G-18bX2"
   },
   "outputs": [],
   "source": [
    "poly = PolynomialFeatures(degree=4)\n",
    "poly.fit(data_train)\n",
    "poly_train = poly.transform(data_train)\n",
    "poly_test = poly.transform(X_test.drop(columns=[\"G2\"]))"
   ]
  },
  {
   "cell_type": "code",
   "execution_count": 106,
   "metadata": {
    "id": "p-TFw0hZLrj0"
   },
   "outputs": [],
   "source": [
    "linreg = LinearRegression()\n",
    "linreg.fit(poly_train, y_train)\n",
    "y_pred = linreg.predict(poly_test)"
   ]
  },
  {
   "cell_type": "code",
   "execution_count": 107,
   "metadata": {
    "colab": {
     "base_uri": "https://localhost:8080/"
    },
    "id": "bXaK8qKH9P3r",
    "outputId": "4c5089d5-9ffd-4b29-8e6a-dc1bfb422d44"
   },
   "outputs": [
    {
     "name": "stdout",
     "output_type": "stream",
     "text": [
      "Test Polynomial:\n",
      "MSE: 5.457002341019531\n",
      "MAE: 1.4400215127493476\n",
      "R2: 0.5916723434898412\n"
     ]
    }
   ],
   "source": [
    "print(\"Test Polynomial:\")\n",
    "print('MSE:', mean_squared_error(y_test, y_pred))\n",
    "print('MAE:', mean_absolute_error(y_test, y_pred))\n",
    "print('R2:', r2_score(y_test, y_pred))"
   ]
  },
  {
   "cell_type": "code",
   "execution_count": 108,
   "metadata": {
    "colab": {
     "base_uri": "https://localhost:8080/"
    },
    "id": "DzyJm9EDMYWa",
    "outputId": "d069b14c-3a16-4e42-a346-a009fd4a7188"
   },
   "outputs": [
    {
     "data": {
      "text/plain": [
       "100554   -905.372429\n",
       "9594      886.232608\n",
       "685       705.386318\n",
       "1910     -689.393732\n",
       "1244      668.615963\n",
       "             ...    \n",
       "56535       0.000000\n",
       "56534       0.000000\n",
       "56533       0.000000\n",
       "56532       0.000000\n",
       "43164       0.000000\n",
       "Length: 101270, dtype: float64"
      ]
     },
     "execution_count": 108,
     "metadata": {},
     "output_type": "execute_result"
    }
   ],
   "source": [
    "coefs = pd.Series(linreg.coef_)\n",
    "z = abs(coefs).sort_values(ascending=False)\n",
    "coefs[z.index]"
   ]
  },
  {
   "cell_type": "markdown",
   "metadata": {
    "id": "AHwWniAZMqkB"
   },
   "source": [
    "Слишком много параметров, чтобы определить параметр, который имеет наибольшее влияние."
   ]
  },
  {
   "cell_type": "code",
   "execution_count": 109,
   "metadata": {
    "id": "TuTuz3g1M4Xl"
   },
   "outputs": [],
   "source": [
    "poly = PolynomialFeatures(degree=4)\n",
    "poly.fit(data_train.drop(columns=[\"G1\"]))\n",
    "poly_train = poly.transform(data_train.drop(columns=[\"G1\"]))\n",
    "poly_test = poly.transform(X_test.drop(columns=[\"G2\", \"G1\"]))"
   ]
  },
  {
   "cell_type": "code",
   "execution_count": 110,
   "metadata": {
    "id": "J73RQjJ2NM7x"
   },
   "outputs": [],
   "source": [
    "linreg = LinearRegression()\n",
    "linreg.fit(poly_train, y_train)\n",
    "y_pred = linreg.predict(poly_test)"
   ]
  },
  {
   "cell_type": "code",
   "execution_count": 111,
   "metadata": {
    "colab": {
     "base_uri": "https://localhost:8080/"
    },
    "id": "zZ-ecTflNM4u",
    "outputId": "9ae7e2b9-e71f-448e-df14-949aedd24de6"
   },
   "outputs": [
    {
     "name": "stdout",
     "output_type": "stream",
     "text": [
      "Test Polynomial without G1:\n",
      "MSE: 14.073972864320444\n",
      "MAE: 2.330236388416635\n",
      "R2: -0.05310424997946073\n"
     ]
    }
   ],
   "source": [
    "print(\"Test Polynomial without G1:\")\n",
    "print('MSE:', mean_squared_error(y_test, y_pred))\n",
    "print('MAE:', mean_absolute_error(y_test, y_pred))\n",
    "print('R2:', r2_score(y_test, y_pred))"
   ]
  },
  {
   "cell_type": "markdown",
   "metadata": {
    "id": "wM890z9pNc4E"
   },
   "source": [
    "Без G1, судя по метрикам, не получилось построить хорошую модель для предсказания целевой переменной."
   ]
  },
  {
   "cell_type": "markdown",
   "metadata": {
    "id": "6VQkrxFKI0n5"
   },
   "source": [
    "#### KNN"
   ]
  },
  {
   "cell_type": "code",
   "execution_count": 112,
   "metadata": {
    "id": "I0TFPslw6pcM"
   },
   "outputs": [],
   "source": [
    "from sklearn.neighbors import KNeighborsRegressor\n"
   ]
  },
  {
   "cell_type": "code",
   "execution_count": 113,
   "metadata": {
    "id": "y41yWgQn6132"
   },
   "outputs": [],
   "source": [
    "param_grid = {'n_neighbors':range(1, 16), 'weights':['uniform', 'distance']}\n",
    "grid = GridSearchCV(estimator = KNeighborsRegressor(), param_grid=param_grid, scoring='r2')\n",
    "grid.fit(data_train, y_train)\n",
    "y_pred = grid.predict(X_test.drop(columns=[\"G2\"]))"
   ]
  },
  {
   "cell_type": "code",
   "execution_count": 114,
   "metadata": {
    "colab": {
     "base_uri": "https://localhost:8080/"
    },
    "id": "6P-LVyLe6q6k",
    "outputId": "24d49345-013c-4c4f-840d-1791322ff715"
   },
   "outputs": [
    {
     "name": "stdout",
     "output_type": "stream",
     "text": [
      "Test KNN:\n",
      "MSE: 2.9213504824483176\n",
      "MAE: 1.1349598519359674\n",
      "R2: 0.781405958473516\n"
     ]
    }
   ],
   "source": [
    "print(\"Test KNN:\")\n",
    "print('MSE:', mean_squared_error(y_test, y_pred))\n",
    "print('MAE:', mean_absolute_error(y_test, y_pred))\n",
    "print('R2:', r2_score(y_test, y_pred))"
   ]
  },
  {
   "cell_type": "code",
   "execution_count": 115,
   "metadata": {
    "id": "mSUZLidxOLr3"
   },
   "outputs": [],
   "source": [
    "param_grid = {'n_neighbors':range(1, 16), 'weights':['uniform', 'distance']}\n",
    "grid = GridSearchCV(estimator = KNeighborsRegressor(), param_grid=param_grid, scoring='r2')\n",
    "grid.fit(data_train.drop(columns=[\"G1\"]), y_train)\n",
    "y_pred = grid.predict(X_test.drop(columns=[\"G2\", \"G1\"]))"
   ]
  },
  {
   "cell_type": "code",
   "execution_count": 116,
   "metadata": {
    "colab": {
     "base_uri": "https://localhost:8080/"
    },
    "id": "xD6F-t8_Oo9d",
    "outputId": "6fd965bb-cd56-4bc4-b5bb-4da54bd226d7"
   },
   "outputs": [
    {
     "name": "stdout",
     "output_type": "stream",
     "text": [
      "Test KNN without G1:\n",
      "MSE: 2.8640058973617593\n",
      "MAE: 1.121459789617394\n",
      "R2: 0.7856968454071593\n"
     ]
    }
   ],
   "source": [
    "print(\"Test KNN without G1:\")\n",
    "print('MSE:', mean_squared_error(y_test, y_pred))\n",
    "print('MAE:', mean_absolute_error(y_test, y_pred))\n",
    "print('R2:', r2_score(y_test, y_pred))"
   ]
  },
  {
   "cell_type": "markdown",
   "metadata": {
    "id": "g2iLj20qO5Rm"
   },
   "source": [
    "Как не странно, но без G1 в KNN получились лучше резултаты по R2, но хуже по MSE и MAE"
   ]
  },
  {
   "cell_type": "markdown",
   "metadata": {
    "id": "i8OoFMGWI2i5"
   },
   "source": [
    "#### Деревья решений, Random Forest"
   ]
  },
  {
   "cell_type": "code",
   "execution_count": 117,
   "metadata": {
    "id": "hD_OjR3TU35V"
   },
   "outputs": [],
   "source": [
    "from sklearn.tree import DecisionTreeRegressor"
   ]
  },
  {
   "cell_type": "code",
   "execution_count": 118,
   "metadata": {
    "id": "2TbhVtWDVAu3"
   },
   "outputs": [],
   "source": [
    "dt_model = DecisionTreeRegressor()\n",
    "dt_model.fit(data_train, y_train)\n",
    "y_pred = dt_model.predict(X_test.drop(columns=[\"G2\"]))"
   ]
  },
  {
   "cell_type": "code",
   "execution_count": 119,
   "metadata": {
    "colab": {
     "base_uri": "https://localhost:8080/"
    },
    "id": "7rhFTkolVL3z",
    "outputId": "f03dd925-2169-4aaf-81a5-f26fac93355e"
   },
   "outputs": [
    {
     "name": "stdout",
     "output_type": "stream",
     "text": [
      "Test Decision Tree:\n",
      "MSE: 2.0348258706467663\n",
      "MAE: 0.8009950248756219\n",
      "R2: 0.8477413738817995\n"
     ]
    }
   ],
   "source": [
    "print(\"Test Decision Tree:\")\n",
    "print('MSE:', mean_squared_error(y_test, y_pred))\n",
    "print('MAE:', mean_absolute_error(y_test, y_pred))\n",
    "print('R2:', r2_score(y_test, y_pred))"
   ]
  },
  {
   "cell_type": "code",
   "execution_count": 120,
   "metadata": {
    "id": "z_ct2SD6VRwy"
   },
   "outputs": [],
   "source": [
    "rf_model = DecisionTreeRegressor()\n",
    "y_train=y_train.astype('int')\n",
    "rf_model.fit(data_train.drop(columns=[\"G1\"]), y_train)\n",
    "y_pred = rf_model.predict(X_test.drop(columns=[\"G2\", \"G1\"]))"
   ]
  },
  {
   "cell_type": "code",
   "execution_count": 121,
   "metadata": {
    "colab": {
     "base_uri": "https://localhost:8080/"
    },
    "id": "oeaVzOg8VSlI",
    "outputId": "cebd0c33-76ab-4423-9a15-d1425da4c27b"
   },
   "outputs": [
    {
     "name": "stdout",
     "output_type": "stream",
     "text": [
      "Test Decision Tree without G1:\n",
      "MSE: 2.6616915422885574\n",
      "MAE: 0.9104477611940298\n",
      "R2: 0.8008352934639675\n"
     ]
    }
   ],
   "source": [
    "print(\"Test Decision Tree without G1:\")\n",
    "print('MSE:', mean_squared_error(y_test, y_pred))\n",
    "print('MAE:', mean_absolute_error(y_test, y_pred))\n",
    "print('R2:', r2_score(y_test, y_pred))"
   ]
  },
  {
   "cell_type": "markdown",
   "metadata": {
    "id": "2QT9OyZSVdGG"
   },
   "source": [
    "Без G1 метрики получаются хуже."
   ]
  },
  {
   "cell_type": "markdown",
   "metadata": {},
   "source": [
    "#### RandomForest:"
   ]
  },
  {
   "cell_type": "code",
   "execution_count": 123,
   "metadata": {
    "id": "EASEUkCuI-R9"
   },
   "outputs": [],
   "source": [
    "from sklearn.ensemble import RandomForestRegressor"
   ]
  },
  {
   "cell_type": "code",
   "execution_count": null,
   "metadata": {
    "id": "4nIuvU5eQKUI"
   },
   "outputs": [],
   "source": [
    "rf_model = RandomForestRegressor()\n",
    "y_train=y_train.astype('int')\n",
    "rf_model.fit(data_train, y_train)\n",
    "y_pred = rf_model.predict(X_test.drop(columns=[\"G2\"]))"
   ]
  },
  {
   "cell_type": "code",
   "execution_count": 125,
   "metadata": {
    "colab": {
     "base_uri": "https://localhost:8080/"
    },
    "id": "TLugOFLuT4_g",
    "outputId": "e45157a5-fa66-4743-b433-f3ccdd5dbf59"
   },
   "outputs": [
    {
     "name": "stdout",
     "output_type": "stream",
     "text": [
      "Test Random Forest:\n",
      "MSE: 1.1219203980099504\n",
      "MAE: 0.649452736318408\n",
      "R2: 0.916050773248384\n"
     ]
    }
   ],
   "source": [
    "print(\"Test Random Forest:\")\n",
    "print('MSE:', mean_squared_error(y_test, y_pred))\n",
    "print('MAE:', mean_absolute_error(y_test, y_pred))\n",
    "print('R2:', r2_score(y_test, y_pred))"
   ]
  },
  {
   "cell_type": "code",
   "execution_count": 126,
   "metadata": {
    "id": "xbikzRerUIJy"
   },
   "outputs": [],
   "source": [
    "rf_model = RandomForestRegressor()\n",
    "y_train=y_train.astype('int')\n",
    "rf_model.fit(data_train.drop(columns=[\"G1\"]), y_train)\n",
    "y_pred = rf_model.predict(X_test.drop(columns=[\"G2\", \"G1\"]))"
   ]
  },
  {
   "cell_type": "code",
   "execution_count": 127,
   "metadata": {
    "colab": {
     "base_uri": "https://localhost:8080/"
    },
    "id": "6fA4P5_iUIG9",
    "outputId": "d373b4aa-5449-4962-a04b-0c339b8e4fc6",
    "scrolled": true
   },
   "outputs": [
    {
     "name": "stdout",
     "output_type": "stream",
     "text": [
      "Test Random Forest without G1:\n",
      "MSE: 1.4948661691542289\n",
      "MAE: 0.7299004975124378\n",
      "R2: 0.8881445963365622\n"
     ]
    }
   ],
   "source": [
    "print(\"Test Random Forest without G1:\")\n",
    "print('MSE:', mean_squared_error(y_test, y_pred))\n",
    "print('MAE:', mean_absolute_error(y_test, y_pred))\n",
    "print('R2:', r2_score(y_test, y_pred))"
   ]
  },
  {
   "cell_type": "markdown",
   "metadata": {
    "id": "cohUoAvTUaLF"
   },
   "source": [
    "Random Forest без G1 тоже показал более плохие результаты\n"
   ]
  },
  {
   "cell_type": "markdown",
   "metadata": {},
   "source": [
    "#### Выводы:"
   ]
  },
  {
   "cell_type": "markdown",
   "metadata": {},
   "source": [
    "Лучшие результаты показали Ridge и Linear регрессии. Они имели наименьшее значение отклонения от истинного результата."
   ]
  },
  {
   "cell_type": "markdown",
   "metadata": {
    "id": "HDQkS35INCCK"
   },
   "source": [
    "## Часть 3. Бинарная классификация"
   ]
  },
  {
   "cell_type": "markdown",
   "metadata": {
    "id": "SvWVU7JPNCCK"
   },
   "source": [
    "Решите задачу бинарной классификации: постройте модель, предсказывающую, сдаст студент предмет (`G3` >= 8) или не сдаст (`G3` < 8). <br>При решении задачи **нельзя** использовать признаки `G1` и `G2`.  \n"
   ]
  },
  {
   "cell_type": "markdown",
   "metadata": {
    "id": "DQlr9eBpNCCL"
   },
   "source": [
    "### Задание 1  \n",
    "  \n",
    "* Постройте дерево решений глубины 5 (остальные параметры по умолчанию), оцените качество на 5-fold валидации.  \n",
    "* Для одного из деревьев (т.е. обученного на одной из итераций кросс-валидации) выведите само дерево - постройте график или выведите в текстовом виде. По структуре дерева сформулируйте правила, по которым принимается решение.  \n",
    "* Сравните между собой деревья решений, полученных на различных итерациях 5-fold валидации. Сделайте вывод, насколько сильно они похожи или различаются между собой. "
   ]
  },
  {
   "cell_type": "code",
   "execution_count": null,
   "metadata": {
    "id": "Lln61buHNCCL"
   },
   "outputs": [],
   "source": [
    "data_train = data_train.drop(columns=[\"G1\"])"
   ]
  },
  {
   "cell_type": "markdown",
   "metadata": {
    "id": "nvmrWu5tNCCL"
   },
   "source": [
    "### Задание 2  \n",
    "  \n",
    "На кросс-валидации (5-fold из 2 повторений) оцените, как меняется качество модели Random Forest с ростом числа деревьев (при дефолтных значениях остальных параметров). Провизуализируйте результаты. Сколько деревьев достаточно в данном случае и почему?  \n",
    "**NB:** В сравнение включите конфигурацию, аналогичную простому дереву решений. "
   ]
  },
  {
   "cell_type": "code",
   "execution_count": null,
   "metadata": {
    "id": "I-8R1gRpNCCM"
   },
   "outputs": [],
   "source": [
    "# your code here"
   ]
  },
  {
   "cell_type": "markdown",
   "metadata": {
    "id": "0Vh4xXp9NCCM"
   },
   "source": [
    "### Задание 3  \n",
    "  \n",
    "* Настройте гиперпараметры модели Random Forest на 5-fold валдиации. В качестве метрики используйте F1-score. Замерьте время, затраченное на вычисления.\n",
    "* Обучите Random Forest  с настроенными параметрами на всех данных для моделирования. На отложенной выборке оцените качество (F1-score) всего ансамбля и <u>каждого дерева отдельно</u>. Постройте график распределения качества деревьев в ансамбле и сравните результаты с качеством всего леса. Дайте комментарий.  \n",
    "* Выведите важность признаков в Random Forest, сделайте выводы. "
   ]
  },
  {
   "cell_type": "code",
   "execution_count": null,
   "metadata": {
    "id": "3QIzMQknNCCM"
   },
   "outputs": [],
   "source": [
    "# your code here"
   ]
  },
  {
   "cell_type": "markdown",
   "metadata": {
    "id": "ZN_F33CTNCCN"
   },
   "source": [
    "### Задание 4  \n",
    "  \n",
    "* Примените логистическую регрессию для решения задачи, подберите оптимальные значения гиперпараметров. Оцените качество (roc auc) на 5-fold валидации из 2 повторений. \n",
    "* Аналогично (на такой же валидации (тех же подвыборках) с такой же метрикой) оцените качество Random Forest  с подобранными в предыдущем задании параметрами. Сравните с качеством логистическом регрессии.\n",
    "* Обучите логистическую модель с настроенными параметрами на всех данных для моделирования. На отложенной выборке оцените качество - постройте ROC-кривую, вычислите roc auc. Вычислите аналогичную метрику для Random Forest из Задания 3, сравните точность моделей. "
   ]
  },
  {
   "cell_type": "code",
   "execution_count": null,
   "metadata": {
    "id": "3BWVqnzZNCCN"
   },
   "outputs": [],
   "source": [
    "# your code here"
   ]
  },
  {
   "cell_type": "markdown",
   "metadata": {
    "id": "fVUuvfLANCCN"
   },
   "source": [
    "### Задание 5  \n",
    "  \n",
    "* Используйте для решения задачи один из фреймворков градиентного бустинга: XGBoost, LightGDB или CatBoost.  \n",
    "* Оцените на 5-fold валидации, как растет качество модели на обучающей и на тестовой выборках при добавлении каждого дерева. Провизуализируйте результаты.  \n",
    "* Настройте гиперпараметры модели на 5-fold валидации, в качестве метрики используйте F1-score. Замерьте время, затраченное на вычисления.  \n",
    "* Обучите модель с настроенными параметрами на всех данных для моделирования и оцените качество на отложенной выборке. Сравните результаты с другими моделями, дайте комментарий."
   ]
  },
  {
   "cell_type": "code",
   "execution_count": null,
   "metadata": {
    "id": "-3CkrnjjNCCO"
   },
   "outputs": [],
   "source": [
    "# your code here"
   ]
  },
  {
   "cell_type": "markdown",
   "metadata": {
    "id": "Og8U46SmNCCO"
   },
   "source": [
    "##  Часть 4. Многоклассовая классификация\n",
    "  \n",
    "* Решите задачу многоклассовой классификации: постройте модель, пресдказывающую оценку студента по предмету по 4 балльной шкале\n",
    "    - Отлично: 18 <= `G3` <= 20\n",
    "    - Хорошо: 14 <= `G3` <= 17\n",
    "    - Удовлетворительно: 8 <= `G3` <= 13\n",
    "    - Неудовлетворительно: `G3` < 8  \n",
    "  \n",
    "  При решении задачи **нельзя** использовать признаки `G1` и `G2`.  \n",
    "  \n",
    "  \n",
    "* Для решения задачи примените следующие методы:  \n",
    "  * KNN  \n",
    "  * Логистическая регрессия  \n",
    "  * Деревья решений  \n",
    "  * Random Forest\n",
    "  * Gradient Boosting\n",
    "  \n",
    "  На кросс-валидации подберите оптимальные значения гиперпараметров алгоритмов.  \n",
    "  \n",
    "  \n",
    "* Оцените качество моделей, используйте confusion matrix и производные от нее метрики. Сделайте выводы.    "
   ]
  },
  {
   "cell_type": "markdown",
   "metadata": {
    "id": "TYCf9MuhdCy_"
   },
   "source": [
    "#### KNN"
   ]
  },
  {
   "cell_type": "code",
   "execution_count": null,
   "metadata": {
    "id": "he-yFy1iNCCO"
   },
   "outputs": [],
   "source": [
    "from sklearn.metrics import accuracy_score, recall_score, precision_score, f1_score, roc_auc_score\n",
    "from sklearn.neighbors import KNeighborsClassifier\n",
    "from sklearn.model_selection import RandomizedSearchCV"
   ]
  },
  {
   "cell_type": "code",
   "execution_count": null,
   "metadata": {
    "id": "tPeBYkjoafZq"
   },
   "outputs": [],
   "source": [
    "def from20to4(x):\n",
    "    if 20>=x>=17.5:\n",
    "        return \"Excellent\"\n",
    "    elif 17.5>x>=13.5:\n",
    "        return \"Good\"\n",
    "    if 13.5>x>=7.5:\n",
    "        return \"Sad\"\n",
    "    elif 7.5>x>=0:\n",
    "        return \"Bad\""
   ]
  },
  {
   "cell_type": "code",
   "execution_count": null,
   "metadata": {
    "colab": {
     "base_uri": "https://localhost:8080/"
    },
    "id": "z5sB3Xy8Z-mQ",
    "outputId": "9df9332b-5601-43c8-8f30-d09406159af5"
   },
   "outputs": [],
   "source": [
    "y_test_ = list(map(from20to4, y_test))\n",
    "y_train_ = list(map(from20to4, y_train))\n",
    "\n",
    "param = {'n_neighbors': range(2, 30)}\n",
    "grid = GridSearchCV(KNeighborsClassifier(), param, cv=10, verbose=3)\n",
    "grid.fit(data_train, y_train_)\n",
    "y_pred = grid.predict(X_test.drop(columns=[\"G1\", \"G2\"]))\n",
    "y_pred_proba = grid.predict_proba(X_test.drop(columns=[\"G1\", \"G2\"]))"
   ]
  },
  {
   "cell_type": "code",
   "execution_count": null,
   "metadata": {
    "colab": {
     "base_uri": "https://localhost:8080/"
    },
    "id": "Koy-ZUhUbgb1",
    "outputId": "f0557b59-9fc2-43d9-e0c3-31170a6885f0"
   },
   "outputs": [],
   "source": [
    "print(\"Accuracy: \", accuracy_score(y_test_, y_pred))\n",
    "print(\"Recall: \", recall_score(y_test_, y_pred, average=\"macro\"))\n",
    "print(\"Precision: \", precision_score(y_test_, y_pred, average=\"macro\"))\n",
    "print(\"F1: \", f1_score(y_test_, y_pred, average=\"macro\"))\n",
    "print(\"ROC AUC: \", roc_auc_score(y_test_, y_pred_proba, multi_class='ovr', average = 'macro'))"
   ]
  },
  {
   "cell_type": "markdown",
   "metadata": {
    "id": "fKvni0FHdGYq"
   },
   "source": [
    "#### Логистическая регрессия:"
   ]
  },
  {
   "cell_type": "code",
   "execution_count": null,
   "metadata": {
    "id": "Iz1mRnIndBbE"
   },
   "outputs": [],
   "source": [
    "from sklearn.linear_model import LogisticRegression"
   ]
  },
  {
   "cell_type": "code",
   "execution_count": null,
   "metadata": {
    "colab": {
     "base_uri": "https://localhost:8080/"
    },
    "id": "se08aYS6dBQy",
    "outputId": "5c178d41-1c47-4b63-c877-4728283b7949"
   },
   "outputs": [],
   "source": [
    "param = {'penalty':['l1', 'l2', 'elasticnet', 'none'], 'solver':['newton-cg', 'lbfgs', 'liblinear', 'sag', 'saga'], \n",
    "         'C':np.arange(0.5, 1.5,0.1)}\n",
    "grid = RandomizedSearchCV(LogisticRegression(), param, cv=5, verbose=4, n_iter=30)\n",
    "grid.fit(data_train, y_train_)\n",
    "y_pred = grid.predict(X_test.drop(columns=[\"G1\", \"G2\"]))\n",
    "y_pred_proba = grid.predict_proba(X_test.drop(columns=[\"G1\", \"G2\"]))"
   ]
  },
  {
   "cell_type": "code",
   "execution_count": null,
   "metadata": {
    "colab": {
     "base_uri": "https://localhost:8080/"
    },
    "id": "SqFBmHQndL1e",
    "outputId": "83208271-2d54-4059-ed27-805a5a25257b"
   },
   "outputs": [],
   "source": [
    "print(\"Accuracy: \", accuracy_score(y_test_, y_pred))\n",
    "print(\"Recall: \", recall_score(y_test_, y_pred, average=\"macro\"))\n",
    "print(\"Precision: \", precision_score(y_test_, y_pred, average=\"macro\"))\n",
    "print(\"F1: \", f1_score(y_test_, y_pred, average=\"macro\"))\n",
    "print(\"ROC AUC: \", roc_auc_score(y_test_, y_pred_proba, multi_class='ovr', average = 'macro'))"
   ]
  },
  {
   "cell_type": "markdown",
   "metadata": {
    "id": "pX5nKCsAiTN6"
   },
   "source": [
    "#### Деревья решений:"
   ]
  },
  {
   "cell_type": "code",
   "execution_count": null,
   "metadata": {
    "id": "-Tp4gtNciVfZ"
   },
   "outputs": [],
   "source": [
    "from sklearn.tree import DecisionTreeClassifier"
   ]
  },
  {
   "cell_type": "code",
   "execution_count": null,
   "metadata": {
    "colab": {
     "base_uri": "https://localhost:8080/"
    },
    "id": "whczT3awiWKL",
    "outputId": "60e49776-9cc9-4640-8e0b-4af9b31db62d"
   },
   "outputs": [],
   "source": [
    "param = {'max_depth': range(2, 7), 'min_samples_split': range(2, 11, 2)}\n",
    "grid = RandomizedSearchCV(DecisionTreeClassifier(criterion='entropy'), param, cv=5, verbose=4, n_iter=30)\n",
    "grid.fit(data_train, y_train_)\n",
    "y_pred = grid.predict(X_test.drop(columns=[\"G1\", \"G2\"]))\n",
    "y_pred_proba = grid.predict_proba(X_test.drop(columns=[\"G1\", \"G2\"]))"
   ]
  },
  {
   "cell_type": "code",
   "execution_count": null,
   "metadata": {
    "colab": {
     "base_uri": "https://localhost:8080/"
    },
    "id": "YBmezj7_iWCz",
    "outputId": "83bb8ee1-1755-465c-8ada-b097ba5b974f"
   },
   "outputs": [],
   "source": [
    "print(\"Accuracy: \", accuracy_score(y_test_, y_pred))\n",
    "print(\"Recall: \", recall_score(y_test_, y_pred, average=\"macro\"))\n",
    "print(\"Precision: \", precision_score(y_test_, y_pred, average=\"macro\"))\n",
    "print(\"F1: \", f1_score(y_test_, y_pred, average=\"macro\"))\n",
    "print(\"ROC AUC: \", roc_auc_score(y_test_, y_pred_proba, multi_class='ovr', average = 'macro'))"
   ]
  },
  {
   "cell_type": "markdown",
   "metadata": {
    "id": "NEL7dQbBdqw0"
   },
   "source": [
    "#### Random Forest:"
   ]
  },
  {
   "cell_type": "code",
   "execution_count": null,
   "metadata": {
    "id": "gXy1dyqrdqRB"
   },
   "outputs": [],
   "source": [
    "from sklearn.ensemble import RandomForestClassifier\n"
   ]
  },
  {
   "cell_type": "code",
   "execution_count": null,
   "metadata": {
    "colab": {
     "base_uri": "https://localhost:8080/"
    },
    "id": "AQUpHczGdqJo",
    "outputId": "7e85f4c5-b292-4b10-f1d1-ed5df0aec9c4"
   },
   "outputs": [],
   "source": [
    "param = {'n_estimators': range(5, 51, 5), 'max_depth': range(2, 7), 'min_samples_split': range(2, 11, 2)}\n",
    "grid = RandomizedSearchCV(RandomForestClassifier(criterion='entropy'), param, cv=5, verbose=4, n_iter=30)\n",
    "grid.fit(data_train, y_train_)\n",
    "y_pred = grid.predict(X_test.drop(columns=[\"G1\", \"G2\"]))\n",
    "y_pred_proba = grid.predict_proba(X_test.drop(columns=[\"G1\", \"G2\"]))"
   ]
  },
  {
   "cell_type": "code",
   "execution_count": null,
   "metadata": {
    "colab": {
     "base_uri": "https://localhost:8080/"
    },
    "id": "26eG3Rr4dqA3",
    "outputId": "b03fa5c7-16ca-4141-f4f9-133c9dccf266"
   },
   "outputs": [],
   "source": [
    "print(\"Accuracy: \", accuracy_score(y_test_, y_pred))\n",
    "print(\"Recall: \", recall_score(y_test_, y_pred, average=\"macro\"))\n",
    "print(\"Precision: \", precision_score(y_test_, y_pred, average=\"macro\"))\n",
    "print(\"F1: \", f1_score(y_test_, y_pred, average=\"macro\"))\n",
    "print(\"ROC AUC: \", roc_auc_score(y_test_, y_pred_proba, multi_class='ovr', average = 'macro'))"
   ]
  },
  {
   "cell_type": "markdown",
   "metadata": {
    "id": "lN8GpLeSjNPL"
   },
   "source": [
    "#### Gradient Boosting:"
   ]
  },
  {
   "cell_type": "code",
   "execution_count": null,
   "metadata": {
    "id": "xNPVCihQjNpj"
   },
   "outputs": [],
   "source": [
    "from sklearn.ensemble import GradientBoostingClassifier"
   ]
  },
  {
   "cell_type": "code",
   "execution_count": null,
   "metadata": {
    "colab": {
     "base_uri": "https://localhost:8080/"
    },
    "id": "5v3phLfFjOQn",
    "outputId": "fac93d92-b1e4-4d59-85dc-5dce0e3ee455"
   },
   "outputs": [],
   "source": [
    "param = {'n_estimators': range(5, 51, 5), 'max_depth': range(2, 7), 'min_samples_split': range(2, 11, 2)}\n",
    "grid = RandomizedSearchCV(RandomForestClassifier(criterion='entropy'), param, cv=5, verbose=4, n_iter=30)\n",
    "grid.fit(data_train, y_train_)\n",
    "y_pred = grid.predict(X_test.drop(columns=[\"G1\", \"G2\"]))\n",
    "y_pred_proba = grid.predict_proba(X_test.drop(columns=[\"G1\", \"G2\"]))"
   ]
  },
  {
   "cell_type": "code",
   "execution_count": null,
   "metadata": {
    "colab": {
     "base_uri": "https://localhost:8080/"
    },
    "id": "vxHVkI3LjOER",
    "outputId": "747b99b2-1234-4e2f-f4cb-3ac383d05117"
   },
   "outputs": [],
   "source": [
    "print(\"Accuracy: \", accuracy_score(y_test_, y_pred))\n",
    "print(\"Recall: \", recall_score(y_test_, y_pred, average=\"macro\"))\n",
    "print(\"Precision: \", precision_score(y_test_, y_pred, average=\"macro\"))\n",
    "print(\"F1: \", f1_score(y_test_, y_pred, average=\"macro\"))\n",
    "print(\"ROC AUC: \", roc_auc_score(y_test_, y_pred_proba, multi_class='ovr', average = 'macro'))"
   ]
  },
  {
   "cell_type": "markdown",
   "metadata": {
    "id": "Hbv0z4tokyQL"
   },
   "source": [
    "#### Выводы:"
   ]
  },
  {
   "cell_type": "markdown",
   "metadata": {
    "id": "rIOwc1YLk6PZ"
   },
   "source": [
    "Из всех классификаторов лучшие результаты показали Random Forest и Gradient Boosting с точностью 90%, это очень хороший результат, если считать, что нет параметров G1 и G2 "
   ]
  }
 ],
 "metadata": {
  "colab": {
   "collapsed_sections": [
    "oSfjvcpmNCCC",
    "UIv7vFOVNCCD",
    "vJITotFQNCCH",
    "ZNiqy84-NCCJ",
    "y3P9BirTIl0l",
    "biGI5CzvIs_a",
    "6VQkrxFKI0n5",
    "i8OoFMGWI2i5",
    "HDQkS35INCCK",
    "DQlr9eBpNCCL",
    "nvmrWu5tNCCL",
    "0Vh4xXp9NCCM",
    "ZN_F33CTNCCN",
    "fVUuvfLANCCN"
   ],
   "name": "Lab_3.Supervised_Learning.ipynb",
   "provenance": []
  },
  "kernelspec": {
   "display_name": "Python 3",
   "language": "python",
   "name": "python3"
  },
  "language_info": {
   "codemirror_mode": {
    "name": "ipython",
    "version": 3
   },
   "file_extension": ".py",
   "mimetype": "text/x-python",
   "name": "python",
   "nbconvert_exporter": "python",
   "pygments_lexer": "ipython3",
   "version": "3.8.5"
  }
 },
 "nbformat": 4,
 "nbformat_minor": 1
}
